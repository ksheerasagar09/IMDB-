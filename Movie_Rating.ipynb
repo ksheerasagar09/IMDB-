{
 "cells": [
  {
   "cell_type": "markdown",
   "metadata": {},
   "source": [
    "### IMDB Rating Prediction"
   ]
  },
  {
   "cell_type": "code",
   "execution_count": 1,
   "metadata": {},
   "outputs": [],
   "source": [
    "#importing the libraries\n",
    "import pandas as pd\n",
    "import numpy as np\n",
    "import matplotlib.pyplot as plt\n",
    "import seaborn as sns\n",
    "from sklearn import preprocessing\n",
    "from sklearn.feature_extraction.text import TfidfVectorizer\n",
    "import warnings\n",
    "from sklearn.linear_model import Lasso\n",
    "from sklearn.metrics import mean_absolute_error\n",
    "warnings.filterwarnings(\"ignore\")"
   ]
  },
  {
   "cell_type": "code",
   "execution_count": 2,
   "metadata": {},
   "outputs": [],
   "source": [
    "movies =  pd.read_csv(\"C://Users//ksheeras//Downloads//movie_metadata.csv\")"
   ]
  },
  {
   "cell_type": "code",
   "execution_count": 3,
   "metadata": {},
   "outputs": [
    {
     "data": {
      "text/html": [
       "<div>\n",
       "<style scoped>\n",
       "    .dataframe tbody tr th:only-of-type {\n",
       "        vertical-align: middle;\n",
       "    }\n",
       "\n",
       "    .dataframe tbody tr th {\n",
       "        vertical-align: top;\n",
       "    }\n",
       "\n",
       "    .dataframe thead th {\n",
       "        text-align: right;\n",
       "    }\n",
       "</style>\n",
       "<table border=\"1\" class=\"dataframe\">\n",
       "  <thead>\n",
       "    <tr style=\"text-align: right;\">\n",
       "      <th></th>\n",
       "      <th>color</th>\n",
       "      <th>director_name</th>\n",
       "      <th>num_critic_for_reviews</th>\n",
       "      <th>duration</th>\n",
       "      <th>director_facebook_likes</th>\n",
       "      <th>actor_3_facebook_likes</th>\n",
       "      <th>actor_2_name</th>\n",
       "      <th>actor_1_facebook_likes</th>\n",
       "      <th>gross</th>\n",
       "      <th>genres</th>\n",
       "      <th>...</th>\n",
       "      <th>num_user_for_reviews</th>\n",
       "      <th>language</th>\n",
       "      <th>country</th>\n",
       "      <th>content_rating</th>\n",
       "      <th>budget</th>\n",
       "      <th>title_year</th>\n",
       "      <th>actor_2_facebook_likes</th>\n",
       "      <th>imdb_score</th>\n",
       "      <th>aspect_ratio</th>\n",
       "      <th>movie_facebook_likes</th>\n",
       "    </tr>\n",
       "  </thead>\n",
       "  <tbody>\n",
       "    <tr>\n",
       "      <th>0</th>\n",
       "      <td>Color</td>\n",
       "      <td>James Cameron</td>\n",
       "      <td>723.0</td>\n",
       "      <td>178.0</td>\n",
       "      <td>0.0</td>\n",
       "      <td>855.0</td>\n",
       "      <td>Joel David Moore</td>\n",
       "      <td>1000.0</td>\n",
       "      <td>760505847.0</td>\n",
       "      <td>Action|Adventure|Fantasy|Sci-Fi</td>\n",
       "      <td>...</td>\n",
       "      <td>3054.0</td>\n",
       "      <td>English</td>\n",
       "      <td>USA</td>\n",
       "      <td>PG-13</td>\n",
       "      <td>237000000.0</td>\n",
       "      <td>2009.0</td>\n",
       "      <td>936.0</td>\n",
       "      <td>7.9</td>\n",
       "      <td>1.78</td>\n",
       "      <td>33000</td>\n",
       "    </tr>\n",
       "    <tr>\n",
       "      <th>1</th>\n",
       "      <td>Color</td>\n",
       "      <td>Gore Verbinski</td>\n",
       "      <td>302.0</td>\n",
       "      <td>169.0</td>\n",
       "      <td>563.0</td>\n",
       "      <td>1000.0</td>\n",
       "      <td>Orlando Bloom</td>\n",
       "      <td>40000.0</td>\n",
       "      <td>309404152.0</td>\n",
       "      <td>Action|Adventure|Fantasy</td>\n",
       "      <td>...</td>\n",
       "      <td>1238.0</td>\n",
       "      <td>English</td>\n",
       "      <td>USA</td>\n",
       "      <td>PG-13</td>\n",
       "      <td>300000000.0</td>\n",
       "      <td>2007.0</td>\n",
       "      <td>5000.0</td>\n",
       "      <td>7.1</td>\n",
       "      <td>2.35</td>\n",
       "      <td>0</td>\n",
       "    </tr>\n",
       "    <tr>\n",
       "      <th>2</th>\n",
       "      <td>Color</td>\n",
       "      <td>Sam Mendes</td>\n",
       "      <td>602.0</td>\n",
       "      <td>148.0</td>\n",
       "      <td>0.0</td>\n",
       "      <td>161.0</td>\n",
       "      <td>Rory Kinnear</td>\n",
       "      <td>11000.0</td>\n",
       "      <td>200074175.0</td>\n",
       "      <td>Action|Adventure|Thriller</td>\n",
       "      <td>...</td>\n",
       "      <td>994.0</td>\n",
       "      <td>English</td>\n",
       "      <td>UK</td>\n",
       "      <td>PG-13</td>\n",
       "      <td>245000000.0</td>\n",
       "      <td>2015.0</td>\n",
       "      <td>393.0</td>\n",
       "      <td>6.8</td>\n",
       "      <td>2.35</td>\n",
       "      <td>85000</td>\n",
       "    </tr>\n",
       "    <tr>\n",
       "      <th>3</th>\n",
       "      <td>Color</td>\n",
       "      <td>Christopher Nolan</td>\n",
       "      <td>813.0</td>\n",
       "      <td>164.0</td>\n",
       "      <td>22000.0</td>\n",
       "      <td>23000.0</td>\n",
       "      <td>Christian Bale</td>\n",
       "      <td>27000.0</td>\n",
       "      <td>448130642.0</td>\n",
       "      <td>Action|Thriller</td>\n",
       "      <td>...</td>\n",
       "      <td>2701.0</td>\n",
       "      <td>English</td>\n",
       "      <td>USA</td>\n",
       "      <td>PG-13</td>\n",
       "      <td>250000000.0</td>\n",
       "      <td>2012.0</td>\n",
       "      <td>23000.0</td>\n",
       "      <td>8.5</td>\n",
       "      <td>2.35</td>\n",
       "      <td>164000</td>\n",
       "    </tr>\n",
       "    <tr>\n",
       "      <th>4</th>\n",
       "      <td>NaN</td>\n",
       "      <td>Doug Walker</td>\n",
       "      <td>NaN</td>\n",
       "      <td>NaN</td>\n",
       "      <td>131.0</td>\n",
       "      <td>NaN</td>\n",
       "      <td>Rob Walker</td>\n",
       "      <td>131.0</td>\n",
       "      <td>NaN</td>\n",
       "      <td>Documentary</td>\n",
       "      <td>...</td>\n",
       "      <td>NaN</td>\n",
       "      <td>NaN</td>\n",
       "      <td>NaN</td>\n",
       "      <td>NaN</td>\n",
       "      <td>NaN</td>\n",
       "      <td>NaN</td>\n",
       "      <td>12.0</td>\n",
       "      <td>7.1</td>\n",
       "      <td>NaN</td>\n",
       "      <td>0</td>\n",
       "    </tr>\n",
       "  </tbody>\n",
       "</table>\n",
       "<p>5 rows × 28 columns</p>\n",
       "</div>"
      ],
      "text/plain": [
       "   color      director_name  num_critic_for_reviews  duration  \\\n",
       "0  Color      James Cameron                   723.0     178.0   \n",
       "1  Color     Gore Verbinski                   302.0     169.0   \n",
       "2  Color         Sam Mendes                   602.0     148.0   \n",
       "3  Color  Christopher Nolan                   813.0     164.0   \n",
       "4    NaN        Doug Walker                     NaN       NaN   \n",
       "\n",
       "   director_facebook_likes  actor_3_facebook_likes      actor_2_name  \\\n",
       "0                      0.0                   855.0  Joel David Moore   \n",
       "1                    563.0                  1000.0     Orlando Bloom   \n",
       "2                      0.0                   161.0      Rory Kinnear   \n",
       "3                  22000.0                 23000.0    Christian Bale   \n",
       "4                    131.0                     NaN        Rob Walker   \n",
       "\n",
       "   actor_1_facebook_likes        gross                           genres  \\\n",
       "0                  1000.0  760505847.0  Action|Adventure|Fantasy|Sci-Fi   \n",
       "1                 40000.0  309404152.0         Action|Adventure|Fantasy   \n",
       "2                 11000.0  200074175.0        Action|Adventure|Thriller   \n",
       "3                 27000.0  448130642.0                  Action|Thriller   \n",
       "4                   131.0          NaN                      Documentary   \n",
       "\n",
       "          ...          num_user_for_reviews language  country  content_rating  \\\n",
       "0         ...                        3054.0  English      USA           PG-13   \n",
       "1         ...                        1238.0  English      USA           PG-13   \n",
       "2         ...                         994.0  English       UK           PG-13   \n",
       "3         ...                        2701.0  English      USA           PG-13   \n",
       "4         ...                           NaN      NaN      NaN             NaN   \n",
       "\n",
       "        budget  title_year actor_2_facebook_likes imdb_score  aspect_ratio  \\\n",
       "0  237000000.0      2009.0                  936.0        7.9          1.78   \n",
       "1  300000000.0      2007.0                 5000.0        7.1          2.35   \n",
       "2  245000000.0      2015.0                  393.0        6.8          2.35   \n",
       "3  250000000.0      2012.0                23000.0        8.5          2.35   \n",
       "4          NaN         NaN                   12.0        7.1           NaN   \n",
       "\n",
       "  movie_facebook_likes  \n",
       "0                33000  \n",
       "1                    0  \n",
       "2                85000  \n",
       "3               164000  \n",
       "4                    0  \n",
       "\n",
       "[5 rows x 28 columns]"
      ]
     },
     "execution_count": 3,
     "metadata": {},
     "output_type": "execute_result"
    }
   ],
   "source": [
    "movies.head(5)"
   ]
  },
  {
   "cell_type": "code",
   "execution_count": 4,
   "metadata": {},
   "outputs": [
    {
     "data": {
      "text/plain": [
       "(5043, 28)"
      ]
     },
     "execution_count": 4,
     "metadata": {},
     "output_type": "execute_result"
    }
   ],
   "source": [
    "movies.shape"
   ]
  },
  {
   "cell_type": "code",
   "execution_count": 5,
   "metadata": {},
   "outputs": [],
   "source": [
    "#checking for missing values and imbalanced data\n",
    "nans = []\n",
    "pcts = []\n",
    "Catg = []\n",
    "unique = []\n",
    "catg_values = []\n",
    "for cols in movies:\n",
    "    nans.append(movies[cols].isnull().sum())\n",
    "    pcts.append(movies[cols].isnull().sum()/movies.shape[0]*100)\n",
    "    Catg.append(movies[cols].dtype)\n",
    "    unique.append(movies[cols].nunique())\n",
    "    catg_values.append(movies[cols].value_counts(normalize=True, dropna=False).values[0] * 100)"
   ]
  },
  {
   "cell_type": "code",
   "execution_count": 6,
   "metadata": {},
   "outputs": [
    {
     "data": {
      "text/html": [
       "<div>\n",
       "<style scoped>\n",
       "    .dataframe tbody tr th:only-of-type {\n",
       "        vertical-align: middle;\n",
       "    }\n",
       "\n",
       "    .dataframe tbody tr th {\n",
       "        vertical-align: top;\n",
       "    }\n",
       "\n",
       "    .dataframe thead th {\n",
       "        text-align: right;\n",
       "    }\n",
       "</style>\n",
       "<table border=\"1\" class=\"dataframe\">\n",
       "  <thead>\n",
       "    <tr style=\"text-align: right;\">\n",
       "      <th></th>\n",
       "      <th>Col</th>\n",
       "      <th>Unique Values</th>\n",
       "      <th>Missing values</th>\n",
       "      <th>Pct missing [%]</th>\n",
       "      <th>% of points in the biggest category</th>\n",
       "      <th>Category</th>\n",
       "    </tr>\n",
       "  </thead>\n",
       "  <tbody>\n",
       "    <tr>\n",
       "      <th>0</th>\n",
       "      <td>color</td>\n",
       "      <td>2</td>\n",
       "      <td>19</td>\n",
       "      <td>0.376760</td>\n",
       "      <td>95.478882</td>\n",
       "      <td>object</td>\n",
       "    </tr>\n",
       "    <tr>\n",
       "      <th>1</th>\n",
       "      <td>language</td>\n",
       "      <td>47</td>\n",
       "      <td>12</td>\n",
       "      <td>0.237954</td>\n",
       "      <td>93.277811</td>\n",
       "      <td>object</td>\n",
       "    </tr>\n",
       "    <tr>\n",
       "      <th>2</th>\n",
       "      <td>country</td>\n",
       "      <td>65</td>\n",
       "      <td>5</td>\n",
       "      <td>0.099147</td>\n",
       "      <td>75.490779</td>\n",
       "      <td>object</td>\n",
       "    </tr>\n",
       "    <tr>\n",
       "      <th>3</th>\n",
       "      <td>aspect_ratio</td>\n",
       "      <td>22</td>\n",
       "      <td>329</td>\n",
       "      <td>6.523895</td>\n",
       "      <td>46.797541</td>\n",
       "      <td>float64</td>\n",
       "    </tr>\n",
       "    <tr>\n",
       "      <th>4</th>\n",
       "      <td>facenumber_in_poster</td>\n",
       "      <td>19</td>\n",
       "      <td>13</td>\n",
       "      <td>0.257783</td>\n",
       "      <td>42.673012</td>\n",
       "      <td>float64</td>\n",
       "    </tr>\n",
       "    <tr>\n",
       "      <th>5</th>\n",
       "      <td>content_rating</td>\n",
       "      <td>18</td>\n",
       "      <td>303</td>\n",
       "      <td>6.008328</td>\n",
       "      <td>41.998810</td>\n",
       "      <td>object</td>\n",
       "    </tr>\n",
       "    <tr>\n",
       "      <th>6</th>\n",
       "      <td>director_facebook_likes</td>\n",
       "      <td>435</td>\n",
       "      <td>104</td>\n",
       "      <td>2.062265</td>\n",
       "      <td>17.985326</td>\n",
       "      <td>float64</td>\n",
       "    </tr>\n",
       "    <tr>\n",
       "      <th>7</th>\n",
       "      <td>gross</td>\n",
       "      <td>4035</td>\n",
       "      <td>884</td>\n",
       "      <td>17.529248</td>\n",
       "      <td>17.529248</td>\n",
       "      <td>float64</td>\n",
       "    </tr>\n",
       "    <tr>\n",
       "      <th>8</th>\n",
       "      <td>budget</td>\n",
       "      <td>439</td>\n",
       "      <td>492</td>\n",
       "      <td>9.756098</td>\n",
       "      <td>9.756098</td>\n",
       "      <td>float64</td>\n",
       "    </tr>\n",
       "    <tr>\n",
       "      <th>9</th>\n",
       "      <td>actor_1_facebook_likes</td>\n",
       "      <td>878</td>\n",
       "      <td>7</td>\n",
       "      <td>0.138806</td>\n",
       "      <td>8.903430</td>\n",
       "      <td>float64</td>\n",
       "    </tr>\n",
       "    <tr>\n",
       "      <th>10</th>\n",
       "      <td>actor_2_facebook_likes</td>\n",
       "      <td>917</td>\n",
       "      <td>13</td>\n",
       "      <td>0.257783</td>\n",
       "      <td>6.127305</td>\n",
       "      <td>float64</td>\n",
       "    </tr>\n",
       "    <tr>\n",
       "      <th>11</th>\n",
       "      <td>title_year</td>\n",
       "      <td>91</td>\n",
       "      <td>108</td>\n",
       "      <td>2.141582</td>\n",
       "      <td>5.155661</td>\n",
       "      <td>float64</td>\n",
       "    </tr>\n",
       "    <tr>\n",
       "      <th>12</th>\n",
       "      <td>duration</td>\n",
       "      <td>191</td>\n",
       "      <td>15</td>\n",
       "      <td>0.297442</td>\n",
       "      <td>3.192544</td>\n",
       "      <td>float64</td>\n",
       "    </tr>\n",
       "    <tr>\n",
       "      <th>13</th>\n",
       "      <td>plot_keywords</td>\n",
       "      <td>4760</td>\n",
       "      <td>153</td>\n",
       "      <td>3.033908</td>\n",
       "      <td>3.033908</td>\n",
       "      <td>object</td>\n",
       "    </tr>\n",
       "    <tr>\n",
       "      <th>14</th>\n",
       "      <td>actor_3_facebook_likes</td>\n",
       "      <td>906</td>\n",
       "      <td>23</td>\n",
       "      <td>0.456078</td>\n",
       "      <td>2.498513</td>\n",
       "      <td>float64</td>\n",
       "    </tr>\n",
       "    <tr>\n",
       "      <th>15</th>\n",
       "      <td>director_name</td>\n",
       "      <td>2398</td>\n",
       "      <td>104</td>\n",
       "      <td>2.062265</td>\n",
       "      <td>2.062265</td>\n",
       "      <td>object</td>\n",
       "    </tr>\n",
       "    <tr>\n",
       "      <th>16</th>\n",
       "      <td>num_user_for_reviews</td>\n",
       "      <td>954</td>\n",
       "      <td>21</td>\n",
       "      <td>0.416419</td>\n",
       "      <td>1.011303</td>\n",
       "      <td>float64</td>\n",
       "    </tr>\n",
       "    <tr>\n",
       "      <th>17</th>\n",
       "      <td>num_critic_for_reviews</td>\n",
       "      <td>528</td>\n",
       "      <td>50</td>\n",
       "      <td>0.991473</td>\n",
       "      <td>0.991473</td>\n",
       "      <td>float64</td>\n",
       "    </tr>\n",
       "    <tr>\n",
       "      <th>18</th>\n",
       "      <td>actor_1_name</td>\n",
       "      <td>2097</td>\n",
       "      <td>7</td>\n",
       "      <td>0.138806</td>\n",
       "      <td>0.971644</td>\n",
       "      <td>object</td>\n",
       "    </tr>\n",
       "    <tr>\n",
       "      <th>19</th>\n",
       "      <td>actor_3_name</td>\n",
       "      <td>3521</td>\n",
       "      <td>23</td>\n",
       "      <td>0.456078</td>\n",
       "      <td>0.456078</td>\n",
       "      <td>object</td>\n",
       "    </tr>\n",
       "    <tr>\n",
       "      <th>20</th>\n",
       "      <td>actor_2_name</td>\n",
       "      <td>3032</td>\n",
       "      <td>13</td>\n",
       "      <td>0.257783</td>\n",
       "      <td>0.396589</td>\n",
       "      <td>object</td>\n",
       "    </tr>\n",
       "  </tbody>\n",
       "</table>\n",
       "</div>"
      ],
      "text/plain": [
       "                        Col  Unique Values  Missing values  Pct missing [%]  \\\n",
       "0                     color              2              19         0.376760   \n",
       "1                  language             47              12         0.237954   \n",
       "2                   country             65               5         0.099147   \n",
       "3              aspect_ratio             22             329         6.523895   \n",
       "4      facenumber_in_poster             19              13         0.257783   \n",
       "5            content_rating             18             303         6.008328   \n",
       "6   director_facebook_likes            435             104         2.062265   \n",
       "7                     gross           4035             884        17.529248   \n",
       "8                    budget            439             492         9.756098   \n",
       "9    actor_1_facebook_likes            878               7         0.138806   \n",
       "10   actor_2_facebook_likes            917              13         0.257783   \n",
       "11               title_year             91             108         2.141582   \n",
       "12                 duration            191              15         0.297442   \n",
       "13            plot_keywords           4760             153         3.033908   \n",
       "14   actor_3_facebook_likes            906              23         0.456078   \n",
       "15            director_name           2398             104         2.062265   \n",
       "16     num_user_for_reviews            954              21         0.416419   \n",
       "17   num_critic_for_reviews            528              50         0.991473   \n",
       "18             actor_1_name           2097               7         0.138806   \n",
       "19             actor_3_name           3521              23         0.456078   \n",
       "20             actor_2_name           3032              13         0.257783   \n",
       "\n",
       "    % of points in the biggest category Category  \n",
       "0                             95.478882   object  \n",
       "1                             93.277811   object  \n",
       "2                             75.490779   object  \n",
       "3                             46.797541  float64  \n",
       "4                             42.673012  float64  \n",
       "5                             41.998810   object  \n",
       "6                             17.985326  float64  \n",
       "7                             17.529248  float64  \n",
       "8                              9.756098  float64  \n",
       "9                              8.903430  float64  \n",
       "10                             6.127305  float64  \n",
       "11                             5.155661  float64  \n",
       "12                             3.192544  float64  \n",
       "13                             3.033908   object  \n",
       "14                             2.498513  float64  \n",
       "15                             2.062265   object  \n",
       "16                             1.011303  float64  \n",
       "17                             0.991473  float64  \n",
       "18                             0.971644   object  \n",
       "19                             0.456078   object  \n",
       "20                             0.396589   object  "
      ]
     },
     "execution_count": 6,
     "metadata": {},
     "output_type": "execute_result"
    }
   ],
   "source": [
    "missing_data = pd.DataFrame({\"Col\":movies.columns,\"Unique Values\" :unique , \"Missing values\": nans,\n",
    "\"Pct missing [%]\": pcts,\"% of points in the biggest category\" : catg_values , \"Category\" : Catg}).sort_values(\"% of points in the biggest category\", ascending=False)\n",
    "missing_data[missing_data[\"Missing values\"]!=0].reset_index(drop=True)"
   ]
  },
  {
   "cell_type": "code",
   "execution_count": 7,
   "metadata": {},
   "outputs": [],
   "source": [
    "#drop columns which have high percentage of points in one category i.e color and language\n",
    "movies.drop(['color'] , inplace=True, axis=1)\n",
    "movies.drop(['language'] , inplace=True, axis=1)"
   ]
  },
  {
   "cell_type": "code",
   "execution_count": 8,
   "metadata": {},
   "outputs": [],
   "source": [
    "movies.drop(['movie_imdb_link'] , inplace=True, axis=1)"
   ]
  },
  {
   "cell_type": "code",
   "execution_count": 9,
   "metadata": {},
   "outputs": [
    {
     "data": {
      "text/html": [
       "<div>\n",
       "<style scoped>\n",
       "    .dataframe tbody tr th:only-of-type {\n",
       "        vertical-align: middle;\n",
       "    }\n",
       "\n",
       "    .dataframe tbody tr th {\n",
       "        vertical-align: top;\n",
       "    }\n",
       "\n",
       "    .dataframe thead th {\n",
       "        text-align: right;\n",
       "    }\n",
       "</style>\n",
       "<table border=\"1\" class=\"dataframe\">\n",
       "  <thead>\n",
       "    <tr style=\"text-align: right;\">\n",
       "      <th></th>\n",
       "      <th>num_critic_for_reviews</th>\n",
       "      <th>duration</th>\n",
       "      <th>director_facebook_likes</th>\n",
       "      <th>actor_3_facebook_likes</th>\n",
       "      <th>actor_1_facebook_likes</th>\n",
       "      <th>gross</th>\n",
       "      <th>num_voted_users</th>\n",
       "      <th>cast_total_facebook_likes</th>\n",
       "      <th>facenumber_in_poster</th>\n",
       "      <th>num_user_for_reviews</th>\n",
       "      <th>budget</th>\n",
       "      <th>title_year</th>\n",
       "      <th>actor_2_facebook_likes</th>\n",
       "      <th>imdb_score</th>\n",
       "      <th>aspect_ratio</th>\n",
       "      <th>movie_facebook_likes</th>\n",
       "    </tr>\n",
       "  </thead>\n",
       "  <tbody>\n",
       "    <tr>\n",
       "      <th>count</th>\n",
       "      <td>4993.000000</td>\n",
       "      <td>5028.000000</td>\n",
       "      <td>4939.000000</td>\n",
       "      <td>5020.000000</td>\n",
       "      <td>5036.000000</td>\n",
       "      <td>4.159000e+03</td>\n",
       "      <td>5.043000e+03</td>\n",
       "      <td>5043.000000</td>\n",
       "      <td>5030.000000</td>\n",
       "      <td>5022.000000</td>\n",
       "      <td>4.551000e+03</td>\n",
       "      <td>4935.000000</td>\n",
       "      <td>5030.000000</td>\n",
       "      <td>5043.000000</td>\n",
       "      <td>4714.000000</td>\n",
       "      <td>5043.000000</td>\n",
       "    </tr>\n",
       "    <tr>\n",
       "      <th>mean</th>\n",
       "      <td>140.194272</td>\n",
       "      <td>107.201074</td>\n",
       "      <td>686.509212</td>\n",
       "      <td>645.009761</td>\n",
       "      <td>6560.047061</td>\n",
       "      <td>4.846841e+07</td>\n",
       "      <td>8.366816e+04</td>\n",
       "      <td>9699.063851</td>\n",
       "      <td>1.371173</td>\n",
       "      <td>272.770808</td>\n",
       "      <td>3.975262e+07</td>\n",
       "      <td>2002.470517</td>\n",
       "      <td>1651.754473</td>\n",
       "      <td>6.442138</td>\n",
       "      <td>2.220403</td>\n",
       "      <td>7525.964505</td>\n",
       "    </tr>\n",
       "    <tr>\n",
       "      <th>std</th>\n",
       "      <td>121.601675</td>\n",
       "      <td>25.197441</td>\n",
       "      <td>2813.328607</td>\n",
       "      <td>1665.041728</td>\n",
       "      <td>15020.759120</td>\n",
       "      <td>6.845299e+07</td>\n",
       "      <td>1.384853e+05</td>\n",
       "      <td>18163.799124</td>\n",
       "      <td>2.013576</td>\n",
       "      <td>377.982886</td>\n",
       "      <td>2.061149e+08</td>\n",
       "      <td>12.474599</td>\n",
       "      <td>4042.438863</td>\n",
       "      <td>1.125116</td>\n",
       "      <td>1.385113</td>\n",
       "      <td>19320.445110</td>\n",
       "    </tr>\n",
       "    <tr>\n",
       "      <th>min</th>\n",
       "      <td>1.000000</td>\n",
       "      <td>7.000000</td>\n",
       "      <td>0.000000</td>\n",
       "      <td>0.000000</td>\n",
       "      <td>0.000000</td>\n",
       "      <td>1.620000e+02</td>\n",
       "      <td>5.000000e+00</td>\n",
       "      <td>0.000000</td>\n",
       "      <td>0.000000</td>\n",
       "      <td>1.000000</td>\n",
       "      <td>2.180000e+02</td>\n",
       "      <td>1916.000000</td>\n",
       "      <td>0.000000</td>\n",
       "      <td>1.600000</td>\n",
       "      <td>1.180000</td>\n",
       "      <td>0.000000</td>\n",
       "    </tr>\n",
       "    <tr>\n",
       "      <th>25%</th>\n",
       "      <td>50.000000</td>\n",
       "      <td>93.000000</td>\n",
       "      <td>7.000000</td>\n",
       "      <td>133.000000</td>\n",
       "      <td>614.000000</td>\n",
       "      <td>5.340988e+06</td>\n",
       "      <td>8.593500e+03</td>\n",
       "      <td>1411.000000</td>\n",
       "      <td>0.000000</td>\n",
       "      <td>65.000000</td>\n",
       "      <td>6.000000e+06</td>\n",
       "      <td>1999.000000</td>\n",
       "      <td>281.000000</td>\n",
       "      <td>5.800000</td>\n",
       "      <td>1.850000</td>\n",
       "      <td>0.000000</td>\n",
       "    </tr>\n",
       "    <tr>\n",
       "      <th>50%</th>\n",
       "      <td>110.000000</td>\n",
       "      <td>103.000000</td>\n",
       "      <td>49.000000</td>\n",
       "      <td>371.500000</td>\n",
       "      <td>988.000000</td>\n",
       "      <td>2.551750e+07</td>\n",
       "      <td>3.435900e+04</td>\n",
       "      <td>3090.000000</td>\n",
       "      <td>1.000000</td>\n",
       "      <td>156.000000</td>\n",
       "      <td>2.000000e+07</td>\n",
       "      <td>2005.000000</td>\n",
       "      <td>595.000000</td>\n",
       "      <td>6.600000</td>\n",
       "      <td>2.350000</td>\n",
       "      <td>166.000000</td>\n",
       "    </tr>\n",
       "    <tr>\n",
       "      <th>75%</th>\n",
       "      <td>195.000000</td>\n",
       "      <td>118.000000</td>\n",
       "      <td>194.500000</td>\n",
       "      <td>636.000000</td>\n",
       "      <td>11000.000000</td>\n",
       "      <td>6.230944e+07</td>\n",
       "      <td>9.630900e+04</td>\n",
       "      <td>13756.500000</td>\n",
       "      <td>2.000000</td>\n",
       "      <td>326.000000</td>\n",
       "      <td>4.500000e+07</td>\n",
       "      <td>2011.000000</td>\n",
       "      <td>918.000000</td>\n",
       "      <td>7.200000</td>\n",
       "      <td>2.350000</td>\n",
       "      <td>3000.000000</td>\n",
       "    </tr>\n",
       "    <tr>\n",
       "      <th>max</th>\n",
       "      <td>813.000000</td>\n",
       "      <td>511.000000</td>\n",
       "      <td>23000.000000</td>\n",
       "      <td>23000.000000</td>\n",
       "      <td>640000.000000</td>\n",
       "      <td>7.605058e+08</td>\n",
       "      <td>1.689764e+06</td>\n",
       "      <td>656730.000000</td>\n",
       "      <td>43.000000</td>\n",
       "      <td>5060.000000</td>\n",
       "      <td>1.221550e+10</td>\n",
       "      <td>2016.000000</td>\n",
       "      <td>137000.000000</td>\n",
       "      <td>9.500000</td>\n",
       "      <td>16.000000</td>\n",
       "      <td>349000.000000</td>\n",
       "    </tr>\n",
       "  </tbody>\n",
       "</table>\n",
       "</div>"
      ],
      "text/plain": [
       "       num_critic_for_reviews     duration  director_facebook_likes  \\\n",
       "count             4993.000000  5028.000000              4939.000000   \n",
       "mean               140.194272   107.201074               686.509212   \n",
       "std                121.601675    25.197441              2813.328607   \n",
       "min                  1.000000     7.000000                 0.000000   \n",
       "25%                 50.000000    93.000000                 7.000000   \n",
       "50%                110.000000   103.000000                49.000000   \n",
       "75%                195.000000   118.000000               194.500000   \n",
       "max                813.000000   511.000000             23000.000000   \n",
       "\n",
       "       actor_3_facebook_likes  actor_1_facebook_likes         gross  \\\n",
       "count             5020.000000             5036.000000  4.159000e+03   \n",
       "mean               645.009761             6560.047061  4.846841e+07   \n",
       "std               1665.041728            15020.759120  6.845299e+07   \n",
       "min                  0.000000                0.000000  1.620000e+02   \n",
       "25%                133.000000              614.000000  5.340988e+06   \n",
       "50%                371.500000              988.000000  2.551750e+07   \n",
       "75%                636.000000            11000.000000  6.230944e+07   \n",
       "max              23000.000000           640000.000000  7.605058e+08   \n",
       "\n",
       "       num_voted_users  cast_total_facebook_likes  facenumber_in_poster  \\\n",
       "count     5.043000e+03                5043.000000           5030.000000   \n",
       "mean      8.366816e+04                9699.063851              1.371173   \n",
       "std       1.384853e+05               18163.799124              2.013576   \n",
       "min       5.000000e+00                   0.000000              0.000000   \n",
       "25%       8.593500e+03                1411.000000              0.000000   \n",
       "50%       3.435900e+04                3090.000000              1.000000   \n",
       "75%       9.630900e+04               13756.500000              2.000000   \n",
       "max       1.689764e+06              656730.000000             43.000000   \n",
       "\n",
       "       num_user_for_reviews        budget   title_year  \\\n",
       "count           5022.000000  4.551000e+03  4935.000000   \n",
       "mean             272.770808  3.975262e+07  2002.470517   \n",
       "std              377.982886  2.061149e+08    12.474599   \n",
       "min                1.000000  2.180000e+02  1916.000000   \n",
       "25%               65.000000  6.000000e+06  1999.000000   \n",
       "50%              156.000000  2.000000e+07  2005.000000   \n",
       "75%              326.000000  4.500000e+07  2011.000000   \n",
       "max             5060.000000  1.221550e+10  2016.000000   \n",
       "\n",
       "       actor_2_facebook_likes   imdb_score  aspect_ratio  movie_facebook_likes  \n",
       "count             5030.000000  5043.000000   4714.000000           5043.000000  \n",
       "mean              1651.754473     6.442138      2.220403           7525.964505  \n",
       "std               4042.438863     1.125116      1.385113          19320.445110  \n",
       "min                  0.000000     1.600000      1.180000              0.000000  \n",
       "25%                281.000000     5.800000      1.850000              0.000000  \n",
       "50%                595.000000     6.600000      2.350000            166.000000  \n",
       "75%                918.000000     7.200000      2.350000           3000.000000  \n",
       "max             137000.000000     9.500000     16.000000         349000.000000  "
      ]
     },
     "execution_count": 9,
     "metadata": {},
     "output_type": "execute_result"
    }
   ],
   "source": [
    "movies.describe()"
   ]
  },
  {
   "cell_type": "code",
   "execution_count": 10,
   "metadata": {},
   "outputs": [
    {
     "name": "stdout",
     "output_type": "stream",
     "text": [
      "0 percentile value is 1.6\n",
      "10 percentile value is 5.0\n",
      "20 percentile value is 5.6\n",
      "30 percentile value is 6.0\n",
      "40 percentile value is 6.3\n",
      "50 percentile value is 6.6\n",
      "60 percentile value is 6.8\n",
      "70 percentile value is 7.1\n",
      "80 percentile value is 7.4\n",
      "90 percentile value is 7.8\n",
      "100 percentile value is  9.5\n"
     ]
    }
   ],
   "source": [
    "#checcking for outliers in the target variable\n",
    "for i in range(0,100,10):\n",
    "    var =movies[\"imdb_score\"].values\n",
    "    var = np.sort(var,axis = None)\n",
    "    print(\"{} percentile value is {}\".format(i,var[int(len(var)*(float(i)/100))]))\n",
    "print (\"100 percentile value is \",var[-1])"
   ]
  },
  {
   "cell_type": "code",
   "execution_count": 11,
   "metadata": {},
   "outputs": [
    {
     "data": {
      "text/html": [
       "<div>\n",
       "<style scoped>\n",
       "    .dataframe tbody tr th:only-of-type {\n",
       "        vertical-align: middle;\n",
       "    }\n",
       "\n",
       "    .dataframe tbody tr th {\n",
       "        vertical-align: top;\n",
       "    }\n",
       "\n",
       "    .dataframe thead th {\n",
       "        text-align: right;\n",
       "    }\n",
       "</style>\n",
       "<table border=\"1\" class=\"dataframe\">\n",
       "  <thead>\n",
       "    <tr style=\"text-align: right;\">\n",
       "      <th></th>\n",
       "      <th>director_name</th>\n",
       "      <th>num_critic_for_reviews</th>\n",
       "      <th>duration</th>\n",
       "      <th>director_facebook_likes</th>\n",
       "      <th>actor_3_facebook_likes</th>\n",
       "      <th>actor_2_name</th>\n",
       "      <th>actor_1_facebook_likes</th>\n",
       "      <th>gross</th>\n",
       "      <th>genres</th>\n",
       "      <th>actor_1_name</th>\n",
       "      <th>...</th>\n",
       "      <th>plot_keywords</th>\n",
       "      <th>num_user_for_reviews</th>\n",
       "      <th>country</th>\n",
       "      <th>content_rating</th>\n",
       "      <th>budget</th>\n",
       "      <th>title_year</th>\n",
       "      <th>actor_2_facebook_likes</th>\n",
       "      <th>imdb_score</th>\n",
       "      <th>aspect_ratio</th>\n",
       "      <th>movie_facebook_likes</th>\n",
       "    </tr>\n",
       "  </thead>\n",
       "  <tbody>\n",
       "    <tr>\n",
       "      <th>0</th>\n",
       "      <td>James Cameron</td>\n",
       "      <td>723.0</td>\n",
       "      <td>178.0</td>\n",
       "      <td>0.0</td>\n",
       "      <td>855.0</td>\n",
       "      <td>Joel David Moore</td>\n",
       "      <td>1000.0</td>\n",
       "      <td>760505847.0</td>\n",
       "      <td>Action|Adventure|Fantasy|Sci-Fi</td>\n",
       "      <td>CCH Pounder</td>\n",
       "      <td>...</td>\n",
       "      <td>avatar|future|marine|native|paraplegic</td>\n",
       "      <td>3054.0</td>\n",
       "      <td>USA</td>\n",
       "      <td>PG-13</td>\n",
       "      <td>237000000.0</td>\n",
       "      <td>2009.0</td>\n",
       "      <td>936.0</td>\n",
       "      <td>7.9</td>\n",
       "      <td>1.78</td>\n",
       "      <td>33000</td>\n",
       "    </tr>\n",
       "    <tr>\n",
       "      <th>1</th>\n",
       "      <td>Gore Verbinski</td>\n",
       "      <td>302.0</td>\n",
       "      <td>169.0</td>\n",
       "      <td>563.0</td>\n",
       "      <td>1000.0</td>\n",
       "      <td>Orlando Bloom</td>\n",
       "      <td>40000.0</td>\n",
       "      <td>309404152.0</td>\n",
       "      <td>Action|Adventure|Fantasy</td>\n",
       "      <td>Johnny Depp</td>\n",
       "      <td>...</td>\n",
       "      <td>goddess|marriage ceremony|marriage proposal|pi...</td>\n",
       "      <td>1238.0</td>\n",
       "      <td>USA</td>\n",
       "      <td>PG-13</td>\n",
       "      <td>300000000.0</td>\n",
       "      <td>2007.0</td>\n",
       "      <td>5000.0</td>\n",
       "      <td>7.1</td>\n",
       "      <td>2.35</td>\n",
       "      <td>0</td>\n",
       "    </tr>\n",
       "    <tr>\n",
       "      <th>2</th>\n",
       "      <td>Sam Mendes</td>\n",
       "      <td>602.0</td>\n",
       "      <td>148.0</td>\n",
       "      <td>0.0</td>\n",
       "      <td>161.0</td>\n",
       "      <td>Rory Kinnear</td>\n",
       "      <td>11000.0</td>\n",
       "      <td>200074175.0</td>\n",
       "      <td>Action|Adventure|Thriller</td>\n",
       "      <td>Christoph Waltz</td>\n",
       "      <td>...</td>\n",
       "      <td>bomb|espionage|sequel|spy|terrorist</td>\n",
       "      <td>994.0</td>\n",
       "      <td>UK</td>\n",
       "      <td>PG-13</td>\n",
       "      <td>245000000.0</td>\n",
       "      <td>2015.0</td>\n",
       "      <td>393.0</td>\n",
       "      <td>6.8</td>\n",
       "      <td>2.35</td>\n",
       "      <td>85000</td>\n",
       "    </tr>\n",
       "    <tr>\n",
       "      <th>3</th>\n",
       "      <td>Christopher Nolan</td>\n",
       "      <td>813.0</td>\n",
       "      <td>164.0</td>\n",
       "      <td>22000.0</td>\n",
       "      <td>23000.0</td>\n",
       "      <td>Christian Bale</td>\n",
       "      <td>27000.0</td>\n",
       "      <td>448130642.0</td>\n",
       "      <td>Action|Thriller</td>\n",
       "      <td>Tom Hardy</td>\n",
       "      <td>...</td>\n",
       "      <td>deception|imprisonment|lawlessness|police offi...</td>\n",
       "      <td>2701.0</td>\n",
       "      <td>USA</td>\n",
       "      <td>PG-13</td>\n",
       "      <td>250000000.0</td>\n",
       "      <td>2012.0</td>\n",
       "      <td>23000.0</td>\n",
       "      <td>8.5</td>\n",
       "      <td>2.35</td>\n",
       "      <td>164000</td>\n",
       "    </tr>\n",
       "    <tr>\n",
       "      <th>4</th>\n",
       "      <td>Doug Walker</td>\n",
       "      <td>NaN</td>\n",
       "      <td>NaN</td>\n",
       "      <td>131.0</td>\n",
       "      <td>NaN</td>\n",
       "      <td>Rob Walker</td>\n",
       "      <td>131.0</td>\n",
       "      <td>NaN</td>\n",
       "      <td>Documentary</td>\n",
       "      <td>Doug Walker</td>\n",
       "      <td>...</td>\n",
       "      <td>NaN</td>\n",
       "      <td>NaN</td>\n",
       "      <td>NaN</td>\n",
       "      <td>NaN</td>\n",
       "      <td>NaN</td>\n",
       "      <td>NaN</td>\n",
       "      <td>12.0</td>\n",
       "      <td>7.1</td>\n",
       "      <td>NaN</td>\n",
       "      <td>0</td>\n",
       "    </tr>\n",
       "  </tbody>\n",
       "</table>\n",
       "<p>5 rows × 25 columns</p>\n",
       "</div>"
      ],
      "text/plain": [
       "       director_name  num_critic_for_reviews  duration  \\\n",
       "0      James Cameron                   723.0     178.0   \n",
       "1     Gore Verbinski                   302.0     169.0   \n",
       "2         Sam Mendes                   602.0     148.0   \n",
       "3  Christopher Nolan                   813.0     164.0   \n",
       "4        Doug Walker                     NaN       NaN   \n",
       "\n",
       "   director_facebook_likes  actor_3_facebook_likes      actor_2_name  \\\n",
       "0                      0.0                   855.0  Joel David Moore   \n",
       "1                    563.0                  1000.0     Orlando Bloom   \n",
       "2                      0.0                   161.0      Rory Kinnear   \n",
       "3                  22000.0                 23000.0    Christian Bale   \n",
       "4                    131.0                     NaN        Rob Walker   \n",
       "\n",
       "   actor_1_facebook_likes        gross                           genres  \\\n",
       "0                  1000.0  760505847.0  Action|Adventure|Fantasy|Sci-Fi   \n",
       "1                 40000.0  309404152.0         Action|Adventure|Fantasy   \n",
       "2                 11000.0  200074175.0        Action|Adventure|Thriller   \n",
       "3                 27000.0  448130642.0                  Action|Thriller   \n",
       "4                   131.0          NaN                      Documentary   \n",
       "\n",
       "      actor_1_name          ...           \\\n",
       "0      CCH Pounder          ...            \n",
       "1      Johnny Depp          ...            \n",
       "2  Christoph Waltz          ...            \n",
       "3        Tom Hardy          ...            \n",
       "4      Doug Walker          ...            \n",
       "\n",
       "                                       plot_keywords  num_user_for_reviews  \\\n",
       "0             avatar|future|marine|native|paraplegic                3054.0   \n",
       "1  goddess|marriage ceremony|marriage proposal|pi...                1238.0   \n",
       "2                bomb|espionage|sequel|spy|terrorist                 994.0   \n",
       "3  deception|imprisonment|lawlessness|police offi...                2701.0   \n",
       "4                                                NaN                   NaN   \n",
       "\n",
       "   country content_rating       budget title_year  actor_2_facebook_likes  \\\n",
       "0      USA          PG-13  237000000.0     2009.0                   936.0   \n",
       "1      USA          PG-13  300000000.0     2007.0                  5000.0   \n",
       "2       UK          PG-13  245000000.0     2015.0                   393.0   \n",
       "3      USA          PG-13  250000000.0     2012.0                 23000.0   \n",
       "4      NaN            NaN          NaN        NaN                    12.0   \n",
       "\n",
       "  imdb_score aspect_ratio  movie_facebook_likes  \n",
       "0        7.9         1.78                 33000  \n",
       "1        7.1         2.35                     0  \n",
       "2        6.8         2.35                 85000  \n",
       "3        8.5         2.35                164000  \n",
       "4        7.1          NaN                     0  \n",
       "\n",
       "[5 rows x 25 columns]"
      ]
     },
     "execution_count": 11,
     "metadata": {},
     "output_type": "execute_result"
    }
   ],
   "source": [
    "movies.head()"
   ]
  },
  {
   "cell_type": "code",
   "execution_count": 12,
   "metadata": {},
   "outputs": [
    {
     "data": {
      "image/png": "[encoded data removed]",
      "text/plain": [
       "<Figure size 432x288 with 1 Axes>"
      ]
     },
     "metadata": {},
     "output_type": "display_data"
    }
   ],
   "source": [
    "#checking for distribution of the target variable\n",
    "%matplotlib inline\n",
    "labels=movies[\"imdb_score\"]\n",
    "import matplotlib.pyplot as plt\n",
    "font = {'fontname':'Arial', 'size':'14'}\n",
    "title_font = { 'weight' : 'bold','size':'16'}\n",
    "plt.hist(labels, bins=20)\n",
    "plt.title(\"Distribution of the IMDB ratings\")\n",
    "plt.show()"
   ]
  },
  {
   "cell_type": "code",
   "execution_count": 13,
   "metadata": {},
   "outputs": [],
   "source": [
    "dtypes = movies.dtypes.astype(str).to_dict()"
   ]
  },
  {
   "cell_type": "code",
   "execution_count": 14,
   "metadata": {},
   "outputs": [],
   "source": [
    "movies.drop(['movie_title'] , inplace=True, axis=1)"
   ]
  },
  {
   "cell_type": "code",
   "execution_count": 15,
   "metadata": {},
   "outputs": [],
   "source": [
    "numerics = ['int8', 'int16', 'int32', 'int64', 'float16', 'float32', 'float64']\n",
    "numerical_columns = [c for c,v in dtypes.items() if v in numerics]\n",
    "binary_variables = [c for c in movies.columns if movies[c].nunique() == 2]\n",
    "categorical_columns = [c for c in movies.columns if (c not in numerical_columns) & (c not in binary_variables)]"
   ]
  },
  {
   "cell_type": "code",
   "execution_count": 16,
   "metadata": {},
   "outputs": [],
   "source": [
    "movies_n = movies[numerical_columns]"
   ]
  },
  {
   "cell_type": "code",
   "execution_count": 17,
   "metadata": {},
   "outputs": [
    {
     "data": {
      "text/plain": [
       "imdb_score                   1.000000\n",
       "num_voted_users              0.410965\n",
       "num_critic_for_reviews       0.305303\n",
       "num_user_for_reviews         0.292475\n",
       "duration                     0.261662\n",
       "movie_facebook_likes         0.247049\n",
       "gross                        0.198021\n",
       "director_facebook_likes      0.170802\n",
       "cast_total_facebook_likes    0.085787\n",
       "actor_2_facebook_likes       0.083808\n",
       "actor_1_facebook_likes       0.076099\n",
       "aspect_ratio                 0.059445\n",
       "actor_3_facebook_likes       0.052633\n",
       "budget                       0.030688\n",
       "facenumber_in_poster        -0.062958\n",
       "title_year                  -0.209167\n",
       "Name: imdb_score, dtype: float64"
      ]
     },
     "execution_count": 17,
     "metadata": {},
     "output_type": "execute_result"
    }
   ],
   "source": [
    "#computing the correlation matrix of the numerical features with that of the target varible\n",
    "corr_matrix = movies_n.corr()\n",
    "corr_matrix['imdb_score'].sort_values(ascending = False)"
   ]
  },
  {
   "cell_type": "code",
   "execution_count": 18,
   "metadata": {},
   "outputs": [],
   "source": [
    "#drop face number as its not very correlated with target\n",
    "movies.drop(['facenumber_in_poster'] , inplace=True, axis=1)"
   ]
  },
  {
   "cell_type": "code",
   "execution_count": 19,
   "metadata": {},
   "outputs": [
    {
     "data": {
      "image/png": "[encoded data removed]",
      "text/plain": [
       "<Figure size 1080x720 with 2 Axes>"
      ]
     },
     "metadata": {},
     "output_type": "display_data"
    }
   ],
   "source": [
    "#plotting a heatmap to check how to variables are correlated amongst themselves so that we can drop columns with redundant information\n",
    "import seaborn as sns\n",
    "cols_to_use = [i for i in movies_n.columns if i != 'imdb_score' ]\n",
    "plt.figure(figsize=(15,10))\n",
    "sns.heatmap(movies_n[cols_to_use].corr(), annot = True);"
   ]
  },
  {
   "cell_type": "markdown",
   "metadata": {},
   "source": [
    "cast_total_facebook_likes and actor_1_facebook_likes are highly corraleted to each other, which would give redundant information, so one of them can be dropped. Likewise, num_of_voted_users and num_user_for_reviews are also highly corellated. So one could be dropped."
   ]
  },
  {
   "cell_type": "code",
   "execution_count": 20,
   "metadata": {
    "scrolled": true
   },
   "outputs": [],
   "source": [
    "#movies.drop(['cast_total_facebook_likes'] , inplace=True, axis=1)\n",
    "movies.drop(['num_user_for_reviews'] , inplace=True, axis=1)"
   ]
  },
  {
   "cell_type": "code",
   "execution_count": 21,
   "metadata": {},
   "outputs": [
    {
     "data": {
      "text/plain": [
       "Index(['director_name', 'num_critic_for_reviews', 'duration',\n",
       "       'director_facebook_likes', 'actor_3_facebook_likes', 'actor_2_name',\n",
       "       'actor_1_facebook_likes', 'gross', 'genres', 'actor_1_name',\n",
       "       'num_voted_users', 'cast_total_facebook_likes', 'actor_3_name',\n",
       "       'plot_keywords', 'country', 'content_rating', 'budget', 'title_year',\n",
       "       'actor_2_facebook_likes', 'imdb_score', 'aspect_ratio',\n",
       "       'movie_facebook_likes'],\n",
       "      dtype='object')"
      ]
     },
     "execution_count": 21,
     "metadata": {},
     "output_type": "execute_result"
    }
   ],
   "source": [
    "movies.columns"
   ]
  },
  {
   "cell_type": "code",
   "execution_count": 22,
   "metadata": {},
   "outputs": [
    {
     "name": "stdout",
     "output_type": "stream",
     "text": [
      "['director_name', 'actor_2_name', 'genres', 'actor_1_name', 'actor_3_name', 'plot_keywords', 'country', 'content_rating']\n"
     ]
    }
   ],
   "source": [
    "print(categorical_columns)"
   ]
  },
  {
   "cell_type": "code",
   "execution_count": 23,
   "metadata": {},
   "outputs": [
    {
     "data": {
      "text/html": [
       "<div>\n",
       "<style scoped>\n",
       "    .dataframe tbody tr th:only-of-type {\n",
       "        vertical-align: middle;\n",
       "    }\n",
       "\n",
       "    .dataframe tbody tr th {\n",
       "        vertical-align: top;\n",
       "    }\n",
       "\n",
       "    .dataframe thead th {\n",
       "        text-align: right;\n",
       "    }\n",
       "</style>\n",
       "<table border=\"1\" class=\"dataframe\">\n",
       "  <thead>\n",
       "    <tr style=\"text-align: right;\">\n",
       "      <th></th>\n",
       "      <th>director_name</th>\n",
       "      <th>num_critic_for_reviews</th>\n",
       "      <th>duration</th>\n",
       "      <th>director_facebook_likes</th>\n",
       "      <th>actor_3_facebook_likes</th>\n",
       "      <th>actor_2_name</th>\n",
       "      <th>actor_1_facebook_likes</th>\n",
       "      <th>gross</th>\n",
       "      <th>genres</th>\n",
       "      <th>actor_1_name</th>\n",
       "      <th>...</th>\n",
       "      <th>actor_3_name</th>\n",
       "      <th>plot_keywords</th>\n",
       "      <th>country</th>\n",
       "      <th>content_rating</th>\n",
       "      <th>budget</th>\n",
       "      <th>title_year</th>\n",
       "      <th>actor_2_facebook_likes</th>\n",
       "      <th>imdb_score</th>\n",
       "      <th>aspect_ratio</th>\n",
       "      <th>movie_facebook_likes</th>\n",
       "    </tr>\n",
       "  </thead>\n",
       "  <tbody>\n",
       "    <tr>\n",
       "      <th>0</th>\n",
       "      <td>James Cameron</td>\n",
       "      <td>723.0</td>\n",
       "      <td>178.0</td>\n",
       "      <td>0.0</td>\n",
       "      <td>855.0</td>\n",
       "      <td>Joel David Moore</td>\n",
       "      <td>1000.0</td>\n",
       "      <td>760505847.0</td>\n",
       "      <td>Action|Adventure|Fantasy|Sci-Fi</td>\n",
       "      <td>CCH Pounder</td>\n",
       "      <td>...</td>\n",
       "      <td>Wes Studi</td>\n",
       "      <td>avatar|future|marine|native|paraplegic</td>\n",
       "      <td>USA</td>\n",
       "      <td>PG-13</td>\n",
       "      <td>237000000.0</td>\n",
       "      <td>2009.0</td>\n",
       "      <td>936.0</td>\n",
       "      <td>7.9</td>\n",
       "      <td>1.78</td>\n",
       "      <td>33000</td>\n",
       "    </tr>\n",
       "    <tr>\n",
       "      <th>1</th>\n",
       "      <td>Gore Verbinski</td>\n",
       "      <td>302.0</td>\n",
       "      <td>169.0</td>\n",
       "      <td>563.0</td>\n",
       "      <td>1000.0</td>\n",
       "      <td>Orlando Bloom</td>\n",
       "      <td>40000.0</td>\n",
       "      <td>309404152.0</td>\n",
       "      <td>Action|Adventure|Fantasy</td>\n",
       "      <td>Johnny Depp</td>\n",
       "      <td>...</td>\n",
       "      <td>Jack Davenport</td>\n",
       "      <td>goddess|marriage ceremony|marriage proposal|pi...</td>\n",
       "      <td>USA</td>\n",
       "      <td>PG-13</td>\n",
       "      <td>300000000.0</td>\n",
       "      <td>2007.0</td>\n",
       "      <td>5000.0</td>\n",
       "      <td>7.1</td>\n",
       "      <td>2.35</td>\n",
       "      <td>0</td>\n",
       "    </tr>\n",
       "    <tr>\n",
       "      <th>2</th>\n",
       "      <td>Sam Mendes</td>\n",
       "      <td>602.0</td>\n",
       "      <td>148.0</td>\n",
       "      <td>0.0</td>\n",
       "      <td>161.0</td>\n",
       "      <td>Rory Kinnear</td>\n",
       "      <td>11000.0</td>\n",
       "      <td>200074175.0</td>\n",
       "      <td>Action|Adventure|Thriller</td>\n",
       "      <td>Christoph Waltz</td>\n",
       "      <td>...</td>\n",
       "      <td>Stephanie Sigman</td>\n",
       "      <td>bomb|espionage|sequel|spy|terrorist</td>\n",
       "      <td>UK</td>\n",
       "      <td>PG-13</td>\n",
       "      <td>245000000.0</td>\n",
       "      <td>2015.0</td>\n",
       "      <td>393.0</td>\n",
       "      <td>6.8</td>\n",
       "      <td>2.35</td>\n",
       "      <td>85000</td>\n",
       "    </tr>\n",
       "    <tr>\n",
       "      <th>3</th>\n",
       "      <td>Christopher Nolan</td>\n",
       "      <td>813.0</td>\n",
       "      <td>164.0</td>\n",
       "      <td>22000.0</td>\n",
       "      <td>23000.0</td>\n",
       "      <td>Christian Bale</td>\n",
       "      <td>27000.0</td>\n",
       "      <td>448130642.0</td>\n",
       "      <td>Action|Thriller</td>\n",
       "      <td>Tom Hardy</td>\n",
       "      <td>...</td>\n",
       "      <td>Joseph Gordon-Levitt</td>\n",
       "      <td>deception|imprisonment|lawlessness|police offi...</td>\n",
       "      <td>USA</td>\n",
       "      <td>PG-13</td>\n",
       "      <td>250000000.0</td>\n",
       "      <td>2012.0</td>\n",
       "      <td>23000.0</td>\n",
       "      <td>8.5</td>\n",
       "      <td>2.35</td>\n",
       "      <td>164000</td>\n",
       "    </tr>\n",
       "    <tr>\n",
       "      <th>4</th>\n",
       "      <td>Doug Walker</td>\n",
       "      <td>NaN</td>\n",
       "      <td>NaN</td>\n",
       "      <td>131.0</td>\n",
       "      <td>NaN</td>\n",
       "      <td>Rob Walker</td>\n",
       "      <td>131.0</td>\n",
       "      <td>NaN</td>\n",
       "      <td>Documentary</td>\n",
       "      <td>Doug Walker</td>\n",
       "      <td>...</td>\n",
       "      <td>NaN</td>\n",
       "      <td>NaN</td>\n",
       "      <td>NaN</td>\n",
       "      <td>NaN</td>\n",
       "      <td>NaN</td>\n",
       "      <td>NaN</td>\n",
       "      <td>12.0</td>\n",
       "      <td>7.1</td>\n",
       "      <td>NaN</td>\n",
       "      <td>0</td>\n",
       "    </tr>\n",
       "  </tbody>\n",
       "</table>\n",
       "<p>5 rows × 22 columns</p>\n",
       "</div>"
      ],
      "text/plain": [
       "       director_name  num_critic_for_reviews  duration  \\\n",
       "0      James Cameron                   723.0     178.0   \n",
       "1     Gore Verbinski                   302.0     169.0   \n",
       "2         Sam Mendes                   602.0     148.0   \n",
       "3  Christopher Nolan                   813.0     164.0   \n",
       "4        Doug Walker                     NaN       NaN   \n",
       "\n",
       "   director_facebook_likes  actor_3_facebook_likes      actor_2_name  \\\n",
       "0                      0.0                   855.0  Joel David Moore   \n",
       "1                    563.0                  1000.0     Orlando Bloom   \n",
       "2                      0.0                   161.0      Rory Kinnear   \n",
       "3                  22000.0                 23000.0    Christian Bale   \n",
       "4                    131.0                     NaN        Rob Walker   \n",
       "\n",
       "   actor_1_facebook_likes        gross                           genres  \\\n",
       "0                  1000.0  760505847.0  Action|Adventure|Fantasy|Sci-Fi   \n",
       "1                 40000.0  309404152.0         Action|Adventure|Fantasy   \n",
       "2                 11000.0  200074175.0        Action|Adventure|Thriller   \n",
       "3                 27000.0  448130642.0                  Action|Thriller   \n",
       "4                   131.0          NaN                      Documentary   \n",
       "\n",
       "      actor_1_name          ...                   actor_3_name  \\\n",
       "0      CCH Pounder          ...                      Wes Studi   \n",
       "1      Johnny Depp          ...                 Jack Davenport   \n",
       "2  Christoph Waltz          ...               Stephanie Sigman   \n",
       "3        Tom Hardy          ...           Joseph Gordon-Levitt   \n",
       "4      Doug Walker          ...                            NaN   \n",
       "\n",
       "                                       plot_keywords country content_rating  \\\n",
       "0             avatar|future|marine|native|paraplegic     USA          PG-13   \n",
       "1  goddess|marriage ceremony|marriage proposal|pi...     USA          PG-13   \n",
       "2                bomb|espionage|sequel|spy|terrorist      UK          PG-13   \n",
       "3  deception|imprisonment|lawlessness|police offi...     USA          PG-13   \n",
       "4                                                NaN     NaN            NaN   \n",
       "\n",
       "        budget title_year  actor_2_facebook_likes  imdb_score  aspect_ratio  \\\n",
       "0  237000000.0     2009.0                   936.0         7.9          1.78   \n",
       "1  300000000.0     2007.0                  5000.0         7.1          2.35   \n",
       "2  245000000.0     2015.0                   393.0         6.8          2.35   \n",
       "3  250000000.0     2012.0                 23000.0         8.5          2.35   \n",
       "4          NaN        NaN                    12.0         7.1           NaN   \n",
       "\n",
       "   movie_facebook_likes  \n",
       "0                 33000  \n",
       "1                     0  \n",
       "2                 85000  \n",
       "3                164000  \n",
       "4                     0  \n",
       "\n",
       "[5 rows x 22 columns]"
      ]
     },
     "execution_count": 23,
     "metadata": {},
     "output_type": "execute_result"
    }
   ],
   "source": [
    "movies.head()"
   ]
  },
  {
   "cell_type": "code",
   "execution_count": 24,
   "metadata": {},
   "outputs": [],
   "source": [
    "from sklearn.model_selection import train_test_split\n",
    "y = movies['imdb_score']\n",
    "movies.drop(['imdb_score'] , inplace=True, axis=1)"
   ]
  },
  {
   "cell_type": "code",
   "execution_count": 25,
   "metadata": {},
   "outputs": [],
   "source": [
    "movies[\"plot_keywords\"]=movies[\"plot_keywords\"].fillna(\"None\")"
   ]
  },
  {
   "cell_type": "code",
   "execution_count": 26,
   "metadata": {},
   "outputs": [],
   "source": [
    "from sklearn import preprocessing\n",
    "le = preprocessing.LabelEncoder()\n",
    "for i in categorical_columns:\n",
    "    if i not in ['plot_keywords' , 'genres']:\n",
    "        movies[i]=movies[i].fillna(\"None\")\n",
    "        movies[i] = le.fit_transform(movies[i])"
   ]
  },
  {
   "cell_type": "code",
   "execution_count": 27,
   "metadata": {},
   "outputs": [
    {
     "data": {
      "text/html": [
       "<div>\n",
       "<style scoped>\n",
       "    .dataframe tbody tr th:only-of-type {\n",
       "        vertical-align: middle;\n",
       "    }\n",
       "\n",
       "    .dataframe tbody tr th {\n",
       "        vertical-align: top;\n",
       "    }\n",
       "\n",
       "    .dataframe thead th {\n",
       "        text-align: right;\n",
       "    }\n",
       "</style>\n",
       "<table border=\"1\" class=\"dataframe\">\n",
       "  <thead>\n",
       "    <tr style=\"text-align: right;\">\n",
       "      <th></th>\n",
       "      <th>director_name</th>\n",
       "      <th>num_critic_for_reviews</th>\n",
       "      <th>duration</th>\n",
       "      <th>director_facebook_likes</th>\n",
       "      <th>actor_3_facebook_likes</th>\n",
       "      <th>actor_2_name</th>\n",
       "      <th>actor_1_facebook_likes</th>\n",
       "      <th>gross</th>\n",
       "      <th>genres</th>\n",
       "      <th>actor_1_name</th>\n",
       "      <th>...</th>\n",
       "      <th>cast_total_facebook_likes</th>\n",
       "      <th>actor_3_name</th>\n",
       "      <th>plot_keywords</th>\n",
       "      <th>country</th>\n",
       "      <th>content_rating</th>\n",
       "      <th>budget</th>\n",
       "      <th>title_year</th>\n",
       "      <th>actor_2_facebook_likes</th>\n",
       "      <th>aspect_ratio</th>\n",
       "      <th>movie_facebook_likes</th>\n",
       "    </tr>\n",
       "  </thead>\n",
       "  <tbody>\n",
       "    <tr>\n",
       "      <th>0</th>\n",
       "      <td>922</td>\n",
       "      <td>723.0</td>\n",
       "      <td>178.0</td>\n",
       "      <td>0.0</td>\n",
       "      <td>855.0</td>\n",
       "      <td>1405</td>\n",
       "      <td>1000.0</td>\n",
       "      <td>760505847.0</td>\n",
       "      <td>Action|Adventure|Fantasy|Sci-Fi</td>\n",
       "      <td>264</td>\n",
       "      <td>...</td>\n",
       "      <td>4834</td>\n",
       "      <td>3438</td>\n",
       "      <td>avatar|future|marine|native|paraplegic</td>\n",
       "      <td>63</td>\n",
       "      <td>8</td>\n",
       "      <td>237000000.0</td>\n",
       "      <td>2009.0</td>\n",
       "      <td>936.0</td>\n",
       "      <td>1.78</td>\n",
       "      <td>33000</td>\n",
       "    </tr>\n",
       "    <tr>\n",
       "      <th>1</th>\n",
       "      <td>794</td>\n",
       "      <td>302.0</td>\n",
       "      <td>169.0</td>\n",
       "      <td>563.0</td>\n",
       "      <td>1000.0</td>\n",
       "      <td>2217</td>\n",
       "      <td>40000.0</td>\n",
       "      <td>309404152.0</td>\n",
       "      <td>Action|Adventure|Fantasy</td>\n",
       "      <td>976</td>\n",
       "      <td>...</td>\n",
       "      <td>48350</td>\n",
       "      <td>1390</td>\n",
       "      <td>goddess|marriage ceremony|marriage proposal|pi...</td>\n",
       "      <td>63</td>\n",
       "      <td>8</td>\n",
       "      <td>300000000.0</td>\n",
       "      <td>2007.0</td>\n",
       "      <td>5000.0</td>\n",
       "      <td>2.35</td>\n",
       "      <td>0</td>\n",
       "    </tr>\n",
       "    <tr>\n",
       "      <th>2</th>\n",
       "      <td>2022</td>\n",
       "      <td>602.0</td>\n",
       "      <td>148.0</td>\n",
       "      <td>0.0</td>\n",
       "      <td>161.0</td>\n",
       "      <td>2488</td>\n",
       "      <td>11000.0</td>\n",
       "      <td>200074175.0</td>\n",
       "      <td>Action|Adventure|Thriller</td>\n",
       "      <td>349</td>\n",
       "      <td>...</td>\n",
       "      <td>11700</td>\n",
       "      <td>3130</td>\n",
       "      <td>bomb|espionage|sequel|spy|terrorist</td>\n",
       "      <td>62</td>\n",
       "      <td>8</td>\n",
       "      <td>245000000.0</td>\n",
       "      <td>2015.0</td>\n",
       "      <td>393.0</td>\n",
       "      <td>2.35</td>\n",
       "      <td>85000</td>\n",
       "    </tr>\n",
       "    <tr>\n",
       "      <th>3</th>\n",
       "      <td>373</td>\n",
       "      <td>813.0</td>\n",
       "      <td>164.0</td>\n",
       "      <td>22000.0</td>\n",
       "      <td>23000.0</td>\n",
       "      <td>532</td>\n",
       "      <td>27000.0</td>\n",
       "      <td>448130642.0</td>\n",
       "      <td>Action|Thriller</td>\n",
       "      <td>1964</td>\n",
       "      <td>...</td>\n",
       "      <td>106759</td>\n",
       "      <td>1763</td>\n",
       "      <td>deception|imprisonment|lawlessness|police offi...</td>\n",
       "      <td>63</td>\n",
       "      <td>8</td>\n",
       "      <td>250000000.0</td>\n",
       "      <td>2012.0</td>\n",
       "      <td>23000.0</td>\n",
       "      <td>2.35</td>\n",
       "      <td>164000</td>\n",
       "    </tr>\n",
       "    <tr>\n",
       "      <th>4</th>\n",
       "      <td>600</td>\n",
       "      <td>NaN</td>\n",
       "      <td>NaN</td>\n",
       "      <td>131.0</td>\n",
       "      <td>NaN</td>\n",
       "      <td>2432</td>\n",
       "      <td>131.0</td>\n",
       "      <td>NaN</td>\n",
       "      <td>Documentary</td>\n",
       "      <td>522</td>\n",
       "      <td>...</td>\n",
       "      <td>143</td>\n",
       "      <td>2551</td>\n",
       "      <td>None</td>\n",
       "      <td>41</td>\n",
       "      <td>5</td>\n",
       "      <td>NaN</td>\n",
       "      <td>NaN</td>\n",
       "      <td>12.0</td>\n",
       "      <td>NaN</td>\n",
       "      <td>0</td>\n",
       "    </tr>\n",
       "  </tbody>\n",
       "</table>\n",
       "<p>5 rows × 21 columns</p>\n",
       "</div>"
      ],
      "text/plain": [
       "   director_name  num_critic_for_reviews  duration  director_facebook_likes  \\\n",
       "0            922                   723.0     178.0                      0.0   \n",
       "1            794                   302.0     169.0                    563.0   \n",
       "2           2022                   602.0     148.0                      0.0   \n",
       "3            373                   813.0     164.0                  22000.0   \n",
       "4            600                     NaN       NaN                    131.0   \n",
       "\n",
       "   actor_3_facebook_likes  actor_2_name  actor_1_facebook_likes        gross  \\\n",
       "0                   855.0          1405                  1000.0  760505847.0   \n",
       "1                  1000.0          2217                 40000.0  309404152.0   \n",
       "2                   161.0          2488                 11000.0  200074175.0   \n",
       "3                 23000.0           532                 27000.0  448130642.0   \n",
       "4                     NaN          2432                   131.0          NaN   \n",
       "\n",
       "                            genres  actor_1_name          ...           \\\n",
       "0  Action|Adventure|Fantasy|Sci-Fi           264          ...            \n",
       "1         Action|Adventure|Fantasy           976          ...            \n",
       "2        Action|Adventure|Thriller           349          ...            \n",
       "3                  Action|Thriller          1964          ...            \n",
       "4                      Documentary           522          ...            \n",
       "\n",
       "   cast_total_facebook_likes  actor_3_name  \\\n",
       "0                       4834          3438   \n",
       "1                      48350          1390   \n",
       "2                      11700          3130   \n",
       "3                     106759          1763   \n",
       "4                        143          2551   \n",
       "\n",
       "                                       plot_keywords country  content_rating  \\\n",
       "0             avatar|future|marine|native|paraplegic      63               8   \n",
       "1  goddess|marriage ceremony|marriage proposal|pi...      63               8   \n",
       "2                bomb|espionage|sequel|spy|terrorist      62               8   \n",
       "3  deception|imprisonment|lawlessness|police offi...      63               8   \n",
       "4                                               None      41               5   \n",
       "\n",
       "        budget  title_year  actor_2_facebook_likes  aspect_ratio  \\\n",
       "0  237000000.0      2009.0                   936.0          1.78   \n",
       "1  300000000.0      2007.0                  5000.0          2.35   \n",
       "2  245000000.0      2015.0                   393.0          2.35   \n",
       "3  250000000.0      2012.0                 23000.0          2.35   \n",
       "4          NaN         NaN                    12.0           NaN   \n",
       "\n",
       "   movie_facebook_likes  \n",
       "0                 33000  \n",
       "1                     0  \n",
       "2                 85000  \n",
       "3                164000  \n",
       "4                     0  \n",
       "\n",
       "[5 rows x 21 columns]"
      ]
     },
     "execution_count": 27,
     "metadata": {},
     "output_type": "execute_result"
    }
   ],
   "source": [
    "movies.head()"
   ]
  },
  {
   "cell_type": "code",
   "execution_count": 28,
   "metadata": {},
   "outputs": [],
   "source": [
    "#splitting data into test and train\n",
    "X = movies\n",
    "X_train, X_test, y_train, y_test = train_test_split(X, y, test_size=0.33, random_state=42)"
   ]
  },
  {
   "cell_type": "code",
   "execution_count": 29,
   "metadata": {},
   "outputs": [
    {
     "data": {
      "text/plain": [
       "(3378, 21)"
      ]
     },
     "execution_count": 29,
     "metadata": {},
     "output_type": "execute_result"
    }
   ],
   "source": [
    "X_train.shape"
   ]
  },
  {
   "cell_type": "code",
   "execution_count": 30,
   "metadata": {},
   "outputs": [],
   "source": [
    "#vectorizing the categorical features using tfidf vectorizer\n",
    "from sklearn.feature_extraction.text import TfidfVectorizer\n",
    "\n",
    "def token(text):\n",
    "    return(text.split(\"|\"))\n",
    "\n",
    "tfidf_plot =  TfidfVectorizer(tokenizer=token , max_features = 2000)\n",
    "tfidf_plot_features_train = tfidf_plot.fit_transform(X_train['plot_keywords'])\n",
    "tfidf_plot_features_test = tfidf_plot.transform(X_test['plot_keywords'])"
   ]
  },
  {
   "cell_type": "code",
   "execution_count": 31,
   "metadata": {},
   "outputs": [],
   "source": [
    "X_train.drop(['plot_keywords'] , inplace=True, axis=1)\n",
    "X_test.drop(['plot_keywords'] , inplace=True, axis=1)"
   ]
  },
  {
   "cell_type": "code",
   "execution_count": 32,
   "metadata": {},
   "outputs": [],
   "source": [
    "tfidf_plot =  TfidfVectorizer(tokenizer=token , max_features = 2000 )\n",
    "tfidf_genre_features_train = tfidf_plot.fit_transform(X_train['genres'])\n",
    "tfidf_genre_features_test = tfidf_plot.transform(X_test['genres'])\n",
    "#genre = pd.SparseDataFrame(tfidf_plot.fit_transform(X_train['genres']),columns=tfidf_plot.get_feature_names(), default_fill_value=0)"
   ]
  },
  {
   "cell_type": "code",
   "execution_count": 33,
   "metadata": {
    "scrolled": true
   },
   "outputs": [],
   "source": [
    "X_train.drop(['genres'] , inplace=True, axis=1)\n",
    "X_test.drop(['genres'] , inplace=True, axis=1)"
   ]
  },
  {
   "cell_type": "code",
   "execution_count": 34,
   "metadata": {},
   "outputs": [],
   "source": [
    "X_train = np.array(X_train)\n",
    "X_test = np.array(X_test)"
   ]
  },
  {
   "cell_type": "code",
   "execution_count": 35,
   "metadata": {},
   "outputs": [],
   "source": [
    "tfidf_genre_features_train = tfidf_genre_features_train.toarray()\n",
    "tfidf_genre_features_test = tfidf_genre_features_test.toarray()\n",
    "tfidf_plot_features_train = tfidf_plot_features_train.toarray()\n",
    "tfidf_plot_features_test = tfidf_plot_features_test.toarray()"
   ]
  },
  {
   "cell_type": "code",
   "execution_count": 36,
   "metadata": {},
   "outputs": [],
   "source": [
    "tfidf_genre_features_train = np.array(tfidf_genre_features_train)\n",
    "tfidf_genre_features_test = np.array(tfidf_genre_features_test)\n",
    "tfidf_plot_features_train = np.array(tfidf_plot_features_train)\n",
    "tfidf_plot_features_test = np.array(tfidf_plot_features_test)"
   ]
  },
  {
   "cell_type": "code",
   "execution_count": 37,
   "metadata": {},
   "outputs": [
    {
     "data": {
      "text/plain": [
       "(1665, 2000)"
      ]
     },
     "execution_count": 37,
     "metadata": {},
     "output_type": "execute_result"
    }
   ],
   "source": [
    "tfidf_plot_features_test.shape"
   ]
  },
  {
   "cell_type": "code",
   "execution_count": 38,
   "metadata": {},
   "outputs": [],
   "source": [
    "X_train = np.column_stack((X_train,tfidf_plot_features_train,tfidf_genre_features_train))\n",
    "X_test = np.column_stack((X_test,tfidf_plot_features_test,tfidf_genre_features_test))"
   ]
  },
  {
   "cell_type": "code",
   "execution_count": 39,
   "metadata": {},
   "outputs": [],
   "source": [
    "X_train = np.nan_to_num(X_train)\n",
    "X_test = np.nan_to_num(X_test)\n",
    "y_train = np.nan_to_num(y_train)"
   ]
  },
  {
   "cell_type": "code",
   "execution_count": 40,
   "metadata": {},
   "outputs": [],
   "source": [
    "#Standardizing the data\n",
    "from sklearn.preprocessing import StandardScaler\n",
    "scale = StandardScaler()\n",
    "X_train = scale.fit_transform(X_train)\n",
    "X_test = scale.transform(X_test)"
   ]
  },
  {
   "cell_type": "markdown",
   "metadata": {},
   "source": [
    "### Machine Learning Model"
   ]
  },
  {
   "cell_type": "markdown",
   "metadata": {},
   "source": [
    "### Lasso regression"
   ]
  },
  {
   "cell_type": "code",
   "execution_count": 87,
   "metadata": {},
   "outputs": [],
   "source": [
    "\n",
    "from sklearn.model_selection import GridSearchCV\n",
    "\n",
    "alpha = [0.0001,0.001,0.01,0.1,1,10,100,1000]\n",
    "error = {}\n",
    "for i in alpha:\n",
    "    rgr_lasso = Lasso(alpha = i)\n",
    "    rgr_lasso.fit(X_train,y_train)\n",
    "    y_pred = rgr_lasso.predict(X_test)\n",
    "    mse = mean_absolute_error(y_test, y_pred)\n",
    "    error[i] = mse"
   ]
  },
  {
   "cell_type": "code",
   "execution_count": 88,
   "metadata": {},
   "outputs": [
    {
     "name": "stdout",
     "output_type": "stream",
     "text": [
      "{0.0001: 0.9486631994848361, 0.001: 0.8678153964178955, 0.01: 0.6827711450953269, 0.1: 0.7128259583169101, 1: 0.877505213917292, 10: 0.877505213917292, 100: 0.877505213917292, 1000: 0.877505213917292}\n"
     ]
    }
   ],
   "source": [
    "print(error)"
   ]
  },
  {
   "cell_type": "code",
   "execution_count": 89,
   "metadata": {},
   "outputs": [
    {
     "name": "stdout",
     "output_type": "stream",
     "text": [
      "0.6827711450953269\n"
     ]
    }
   ],
   "source": [
    "from sklearn.metrics import mean_absolute_error\n",
    "rgr_lasso = Lasso(alpha = 0.01)\n",
    "rgr_lasso.fit(X_train,y_train)\n",
    "y_pred = rgr_lasso.predict(X_test)\n",
    "mse = mean_absolute_error(y_test, y_pred)\n",
    "print(mse)"
   ]
  },
  {
   "cell_type": "markdown",
   "metadata": {},
   "source": [
    "### Tree Based Models"
   ]
  },
  {
   "cell_type": "code",
   "execution_count": 95,
   "metadata": {},
   "outputs": [
    {
     "name": "stdout",
     "output_type": "stream",
     "text": [
      "Fitting 3 folds for each of 10 candidates, totalling 30 fits\n",
      "[CV] min_samples_split=1.0, min_samples_leaf=0.2, max_features=1665, max_depth=3 \n",
      "[CV]  min_samples_split=1.0, min_samples_leaf=0.2, max_features=1665, max_depth=3, score=-1.0258192016481464, total=   0.0s\n",
      "[CV] min_samples_split=1.0, min_samples_leaf=0.2, max_features=1665, max_depth=3 \n"
     ]
    },
    {
     "name": "stderr",
     "output_type": "stream",
     "text": [
      "[Parallel(n_jobs=1)]: Done   1 out of   1 | elapsed:    0.0s remaining:    0.0s\n",
      "[Parallel(n_jobs=1)]: Done   2 out of   2 | elapsed:    0.2s remaining:    0.0s\n"
     ]
    },
    {
     "name": "stdout",
     "output_type": "stream",
     "text": [
      "[CV]  min_samples_split=1.0, min_samples_leaf=0.2, max_features=1665, max_depth=3, score=-1.0887848075448372, total=   0.0s\n",
      "[CV] min_samples_split=1.0, min_samples_leaf=0.2, max_features=1665, max_depth=3 \n",
      "[CV]  min_samples_split=1.0, min_samples_leaf=0.2, max_features=1665, max_depth=3, score=-1.147825688039454, total=   0.0s\n",
      "[CV] min_samples_split=0.1, min_samples_leaf=0.1, max_features=1617, max_depth=12 \n"
     ]
    },
    {
     "name": "stderr",
     "output_type": "stream",
     "text": [
      "[Parallel(n_jobs=1)]: Done   3 out of   3 | elapsed:    0.3s remaining:    0.0s\n"
     ]
    },
    {
     "name": "stdout",
     "output_type": "stream",
     "text": [
      "[CV]  min_samples_split=0.1, min_samples_leaf=0.1, max_features=1617, max_depth=12, score=-0.8602928104821795, total=   0.1s\n",
      "[CV] min_samples_split=0.1, min_samples_leaf=0.1, max_features=1617, max_depth=12 \n"
     ]
    },
    {
     "name": "stderr",
     "output_type": "stream",
     "text": [
      "[Parallel(n_jobs=1)]: Done   4 out of   4 | elapsed:    0.6s remaining:    0.0s\n"
     ]
    },
    {
     "name": "stdout",
     "output_type": "stream",
     "text": [
      "[CV]  min_samples_split=0.1, min_samples_leaf=0.1, max_features=1617, max_depth=12, score=-0.8600691965704598, total=   0.1s\n",
      "[CV] min_samples_split=0.1, min_samples_leaf=0.1, max_features=1617, max_depth=12 \n"
     ]
    },
    {
     "name": "stderr",
     "output_type": "stream",
     "text": [
      "[Parallel(n_jobs=1)]: Done   5 out of   5 | elapsed:    0.8s remaining:    0.0s\n"
     ]
    },
    {
     "name": "stdout",
     "output_type": "stream",
     "text": [
      "[CV]  min_samples_split=0.1, min_samples_leaf=0.1, max_features=1617, max_depth=12, score=-0.9665301009967509, total=   0.1s\n",
      "[CV] min_samples_split=0.7000000000000001, min_samples_leaf=0.2, max_features=99, max_depth=6 \n",
      "[CV]  min_samples_split=0.7000000000000001, min_samples_leaf=0.2, max_features=99, max_depth=6, score=-1.2201551886777566, total=   0.0s\n",
      "[CV] min_samples_split=0.7000000000000001, min_samples_leaf=0.2, max_features=99, max_depth=6 \n",
      "[CV]  min_samples_split=0.7000000000000001, min_samples_leaf=0.2, max_features=99, max_depth=6, score=-1.2478124615498676, total=   0.0s"
     ]
    },
    {
     "name": "stderr",
     "output_type": "stream",
     "text": [
      "[Parallel(n_jobs=1)]: Done   6 out of   6 | elapsed:    1.0s remaining:    0.0s\n",
      "[Parallel(n_jobs=1)]: Done   7 out of   7 | elapsed:    1.1s remaining:    0.0s\n"
     ]
    },
    {
     "name": "stdout",
     "output_type": "stream",
     "text": [
      "\n",
      "[CV] min_samples_split=0.7000000000000001, min_samples_leaf=0.2, max_features=99, max_depth=6 \n",
      "[CV]  min_samples_split=0.7000000000000001, min_samples_leaf=0.2, max_features=99, max_depth=6, score=-1.2785618408267054, total=   0.0s\n",
      "[CV] min_samples_split=0.6, min_samples_leaf=0.30000000000000004, max_features=99, max_depth=3 \n",
      "[CV]  min_samples_split=0.6, min_samples_leaf=0.30000000000000004, max_features=99, max_depth=3, score=-1.2201551886777566, total=   0.0s\n",
      "[CV] min_samples_split=0.6, min_samples_leaf=0.30000000000000004, max_features=99, max_depth=3 \n"
     ]
    },
    {
     "name": "stderr",
     "output_type": "stream",
     "text": [
      "[Parallel(n_jobs=1)]: Done   8 out of   8 | elapsed:    1.2s remaining:    0.0s\n",
      "[Parallel(n_jobs=1)]: Done   9 out of   9 | elapsed:    1.3s remaining:    0.0s\n"
     ]
    },
    {
     "name": "stdout",
     "output_type": "stream",
     "text": [
      "[CV]  min_samples_split=0.6, min_samples_leaf=0.30000000000000004, max_features=99, max_depth=3, score=-1.2478124615498676, total=   0.0s\n",
      "[CV] min_samples_split=0.6, min_samples_leaf=0.30000000000000004, max_features=99, max_depth=3 \n",
      "[CV]  min_samples_split=0.6, min_samples_leaf=0.30000000000000004, max_features=99, max_depth=3, score=-1.2785618408267054, total=   0.0s\n",
      "[CV] min_samples_split=0.1, min_samples_leaf=0.2, max_features=1885, max_depth=6 \n",
      "[CV]  min_samples_split=0.1, min_samples_leaf=0.2, max_features=1885, max_depth=6, score=-0.9095090226757445, total=   0.1s\n",
      "[CV] min_samples_split=0.1, min_samples_leaf=0.2, max_features=1885, max_depth=6 \n",
      "[CV]  min_samples_split=0.1, min_samples_leaf=0.2, max_features=1885, max_depth=6, score=-0.9567582273822209, total=   0.1s\n",
      "[CV] min_samples_split=0.1, min_samples_leaf=0.2, max_features=1885, max_depth=6 \n",
      "[CV]  min_samples_split=0.1, min_samples_leaf=0.2, max_features=1885, max_depth=6, score=-1.0065175800465804, total=   0.1s\n",
      "[CV] min_samples_split=0.9, min_samples_leaf=0.30000000000000004, max_features=967, max_depth=9 \n",
      "[CV]  min_samples_split=0.9, min_samples_leaf=0.30000000000000004, max_features=967, max_depth=9, score=-1.0547333807131734, total=   0.0s\n",
      "[CV] min_samples_split=0.9, min_samples_leaf=0.30000000000000004, max_features=967, max_depth=9 \n",
      "[CV]  min_samples_split=0.9, min_samples_leaf=0.30000000000000004, max_features=967, max_depth=9, score=-1.1785211373144036, total=   0.0s\n",
      "[CV] min_samples_split=0.9, min_samples_leaf=0.30000000000000004, max_features=967, max_depth=9 \n",
      "[CV]  min_samples_split=0.9, min_samples_leaf=0.30000000000000004, max_features=967, max_depth=9, score=-1.1637307874554204, total=   0.0s\n",
      "[CV] min_samples_split=0.2, min_samples_leaf=0.1, max_features=1833, max_depth=6 \n",
      "[CV]  min_samples_split=0.2, min_samples_leaf=0.1, max_features=1833, max_depth=6, score=-0.8446188605715924, total=   0.1s\n",
      "[CV] min_samples_split=0.2, min_samples_leaf=0.1, max_features=1833, max_depth=6 \n",
      "[CV]  min_samples_split=0.2, min_samples_leaf=0.1, max_features=1833, max_depth=6, score=-0.873341179349214, total=   0.2s\n",
      "[CV] min_samples_split=0.2, min_samples_leaf=0.1, max_features=1833, max_depth=6 \n",
      "[CV]  min_samples_split=0.2, min_samples_leaf=0.1, max_features=1833, max_depth=6, score=-0.9408138689863683, total=   0.1s\n",
      "[CV] min_samples_split=0.4, min_samples_leaf=0.4, max_features=412, max_depth=6 \n",
      "[CV]  min_samples_split=0.4, min_samples_leaf=0.4, max_features=412, max_depth=6, score=-1.213398071228859, total=   0.0s\n",
      "[CV] min_samples_split=0.4, min_samples_leaf=0.4, max_features=412, max_depth=6 \n",
      "[CV]  min_samples_split=0.4, min_samples_leaf=0.4, max_features=412, max_depth=6, score=-1.2432370962691317, total=   0.0s\n",
      "[CV] min_samples_split=0.4, min_samples_leaf=0.4, max_features=412, max_depth=6 \n",
      "[CV]  min_samples_split=0.4, min_samples_leaf=0.4, max_features=412, max_depth=6, score=-1.1637307874554204, total=   0.0s\n",
      "[CV] min_samples_split=0.6, min_samples_leaf=0.30000000000000004, max_features=1959, max_depth=9 \n",
      "[CV]  min_samples_split=0.6, min_samples_leaf=0.30000000000000004, max_features=1959, max_depth=9, score=-0.9675598355947427, total=   0.1s\n",
      "[CV] min_samples_split=0.6, min_samples_leaf=0.30000000000000004, max_features=1959, max_depth=9 \n",
      "[CV]  min_samples_split=0.6, min_samples_leaf=0.30000000000000004, max_features=1959, max_depth=9, score=-0.9912072092893952, total=   0.1s\n",
      "[CV] min_samples_split=0.6, min_samples_leaf=0.30000000000000004, max_features=1959, max_depth=9 \n",
      "[CV]  min_samples_split=0.6, min_samples_leaf=0.30000000000000004, max_features=1959, max_depth=9, score=-1.0228176577243773, total=   0.1s\n",
      "[CV] min_samples_split=0.6, min_samples_leaf=0.5, max_features=1232, max_depth=3 \n",
      "[CV]  min_samples_split=0.6, min_samples_leaf=0.5, max_features=1232, max_depth=3, score=-1.1028777656490063, total=   0.0s\n",
      "[CV] min_samples_split=0.6, min_samples_leaf=0.5, max_features=1232, max_depth=3 \n",
      "[CV]  min_samples_split=0.6, min_samples_leaf=0.5, max_features=1232, max_depth=3, score=-1.2449533884580055, total=   0.0s\n",
      "[CV] min_samples_split=0.6, min_samples_leaf=0.5, max_features=1232, max_depth=3 \n",
      "[CV]  min_samples_split=0.6, min_samples_leaf=0.5, max_features=1232, max_depth=3, score=-1.1704022049572935, total=   0.0s\n"
     ]
    },
    {
     "name": "stderr",
     "output_type": "stream",
     "text": [
      "[Parallel(n_jobs=1)]: Done  30 out of  30 | elapsed:    4.8s finished\n"
     ]
    },
    {
     "name": "stdout",
     "output_type": "stream",
     "text": [
      "{'min_samples_split': 0.2, 'min_samples_leaf': 0.1, 'max_features': 1833, 'max_depth': 6}\n"
     ]
    }
   ],
   "source": [
    "#Applying simple Decision Tree\n",
    "from sklearn.tree import DecisionTreeRegressor\n",
    "from sklearn.model_selection import RandomizedSearchCV\n",
    "max_depth = [3,6,9,12]\n",
    "min_samples_splits = np.linspace(0.1, 1.0, 10, endpoint=True)\n",
    "min_samples_leafs = np.linspace(0.1, 0.5, 5, endpoint=True)\n",
    "max_features = list(range(1,X_train.shape[1]))\n",
    "parameters = {'max_depth' : max_depth , 'min_samples_split' : min_samples_splits , 'min_samples_leaf' : min_samples_leafs , 'max_features' : max_features }\n",
    "clf = DecisionTreeRegressor(random_state=0)\n",
    "Tree = RandomizedSearchCV(clf,param_distributions = parameters, scoring = 'neg_mean_squared_error' , cv = 3 , verbose = 10)\n",
    "Tree.fit(X_train,y_train)\n",
    "\n",
    "print(Tree.best_params_)"
   ]
  },
  {
   "cell_type": "code",
   "execution_count": 96,
   "metadata": {},
   "outputs": [
    {
     "name": "stdout",
     "output_type": "stream",
     "text": [
      "0.7333405516294562\n"
     ]
    }
   ],
   "source": [
    "\n",
    "clf = DecisionTreeRegressor(min_samples_split =  0.2, min_samples_leaf =  0.1 , max_features = 1833, max_depth = 6)\n",
    "clf.fit(X_train,y_train)\n",
    "y_pred = clf.predict(X_test)\n",
    "mse = mean_absolute_error(y_test, y_pred)\n",
    "print(mse)"
   ]
  },
  {
   "cell_type": "markdown",
   "metadata": {},
   "source": [
    "### Random Forest Model"
   ]
  },
  {
   "cell_type": "code",
   "execution_count": 100,
   "metadata": {},
   "outputs": [
    {
     "name": "stdout",
     "output_type": "stream",
     "text": [
      "Fitting 3 folds for each of 10 candidates, totalling 30 fits\n",
      "[CV] n_estimators=200, min_samples_split=0.9, min_samples_leaf=0.1, max_features=304, max_depth=3 \n",
      "[CV]  n_estimators=200, min_samples_split=0.9, min_samples_leaf=0.1, max_features=304, max_depth=3, score=-1.2203959909735353, total=   0.2s\n",
      "[CV] n_estimators=200, min_samples_split=0.9, min_samples_leaf=0.1, max_features=304, max_depth=3 \n"
     ]
    },
    {
     "name": "stderr",
     "output_type": "stream",
     "text": [
      "[Parallel(n_jobs=1)]: Done   1 out of   1 | elapsed:    0.2s remaining:    0.0s\n"
     ]
    },
    {
     "name": "stdout",
     "output_type": "stream",
     "text": [
      "[CV]  n_estimators=200, min_samples_split=0.9, min_samples_leaf=0.1, max_features=304, max_depth=3, score=-1.2475878877647044, total=   0.2s\n",
      "[CV] n_estimators=200, min_samples_split=0.9, min_samples_leaf=0.1, max_features=304, max_depth=3 \n"
     ]
    },
    {
     "name": "stderr",
     "output_type": "stream",
     "text": [
      "[Parallel(n_jobs=1)]: Done   2 out of   2 | elapsed:    0.5s remaining:    0.0s\n"
     ]
    },
    {
     "name": "stdout",
     "output_type": "stream",
     "text": [
      "[CV]  n_estimators=200, min_samples_split=0.9, min_samples_leaf=0.1, max_features=304, max_depth=3, score=-1.2786006991417143, total=   0.2s\n",
      "[CV] n_estimators=50, min_samples_split=1.0, min_samples_leaf=0.2, max_features=1471, max_depth=12 \n",
      "[CV]  n_estimators=50, min_samples_split=1.0, min_samples_leaf=0.2, max_features=1471, max_depth=12, score=-1.2193512252310161, total=   0.0s\n",
      "[CV] n_estimators=50, min_samples_split=1.0, min_samples_leaf=0.2, max_features=1471, max_depth=12 \n"
     ]
    },
    {
     "name": "stderr",
     "output_type": "stream",
     "text": [
      "[Parallel(n_jobs=1)]: Done   3 out of   3 | elapsed:    0.9s remaining:    0.0s\n",
      "[Parallel(n_jobs=1)]: Done   4 out of   4 | elapsed:    1.0s remaining:    0.0s\n"
     ]
    },
    {
     "name": "stdout",
     "output_type": "stream",
     "text": [
      "[CV]  n_estimators=50, min_samples_split=1.0, min_samples_leaf=0.2, max_features=1471, max_depth=12, score=-1.2481648274192427, total=   0.0s\n",
      "[CV] n_estimators=50, min_samples_split=1.0, min_samples_leaf=0.2, max_features=1471, max_depth=12 \n",
      "[CV]  n_estimators=50, min_samples_split=1.0, min_samples_leaf=0.2, max_features=1471, max_depth=12, score=-1.278671051933312, total=   0.0s\n",
      "[CV] n_estimators=200, min_samples_split=0.9, min_samples_leaf=0.5, max_features=137, max_depth=6 \n"
     ]
    },
    {
     "name": "stderr",
     "output_type": "stream",
     "text": [
      "[Parallel(n_jobs=1)]: Done   5 out of   5 | elapsed:    1.2s remaining:    0.0s\n",
      "[Parallel(n_jobs=1)]: Done   6 out of   6 | elapsed:    1.3s remaining:    0.0s\n"
     ]
    },
    {
     "name": "stdout",
     "output_type": "stream",
     "text": [
      "[CV]  n_estimators=200, min_samples_split=0.9, min_samples_leaf=0.5, max_features=137, max_depth=6, score=-1.2203959909735353, total=   0.2s\n",
      "[CV] n_estimators=200, min_samples_split=0.9, min_samples_leaf=0.5, max_features=137, max_depth=6 \n"
     ]
    },
    {
     "name": "stderr",
     "output_type": "stream",
     "text": [
      "[Parallel(n_jobs=1)]: Done   7 out of   7 | elapsed:    1.6s remaining:    0.0s\n"
     ]
    },
    {
     "name": "stdout",
     "output_type": "stream",
     "text": [
      "[CV]  n_estimators=200, min_samples_split=0.9, min_samples_leaf=0.5, max_features=137, max_depth=6, score=-1.2475878877647044, total=   0.2s\n",
      "[CV] n_estimators=200, min_samples_split=0.9, min_samples_leaf=0.5, max_features=137, max_depth=6 \n"
     ]
    },
    {
     "name": "stderr",
     "output_type": "stream",
     "text": [
      "[Parallel(n_jobs=1)]: Done   8 out of   8 | elapsed:    1.9s remaining:    0.0s\n"
     ]
    },
    {
     "name": "stdout",
     "output_type": "stream",
     "text": [
      "[CV]  n_estimators=200, min_samples_split=0.9, min_samples_leaf=0.5, max_features=137, max_depth=6, score=-1.2786006991417143, total=   0.2s\n",
      "[CV] n_estimators=100, min_samples_split=0.6, min_samples_leaf=0.1, max_features=1327, max_depth=9 \n"
     ]
    },
    {
     "name": "stderr",
     "output_type": "stream",
     "text": [
      "[Parallel(n_jobs=1)]: Done   9 out of   9 | elapsed:    2.2s remaining:    0.0s\n"
     ]
    },
    {
     "name": "stdout",
     "output_type": "stream",
     "text": [
      "[CV]  n_estimators=100, min_samples_split=0.6, min_samples_leaf=0.1, max_features=1327, max_depth=9, score=-0.9916733196271681, total=   2.6s\n",
      "[CV] n_estimators=100, min_samples_split=0.6, min_samples_leaf=0.1, max_features=1327, max_depth=9 \n",
      "[CV]  n_estimators=100, min_samples_split=0.6, min_samples_leaf=0.1, max_features=1327, max_depth=9, score=-1.0329617436259377, total=   2.7s\n",
      "[CV] n_estimators=100, min_samples_split=0.6, min_samples_leaf=0.1, max_features=1327, max_depth=9 \n",
      "[CV]  n_estimators=100, min_samples_split=0.6, min_samples_leaf=0.1, max_features=1327, max_depth=9, score=-1.0699276452543134, total=   2.6s\n",
      "[CV] n_estimators=150, min_samples_split=0.9, min_samples_leaf=0.1, max_features=347, max_depth=12 \n",
      "[CV]  n_estimators=150, min_samples_split=0.9, min_samples_leaf=0.1, max_features=347, max_depth=12, score=-1.2206820699101837, total=   0.2s\n",
      "[CV] n_estimators=150, min_samples_split=0.9, min_samples_leaf=0.1, max_features=347, max_depth=12 \n",
      "[CV]  n_estimators=150, min_samples_split=0.9, min_samples_leaf=0.1, max_features=347, max_depth=12, score=-1.247524759526168, total=   0.1s\n",
      "[CV] n_estimators=150, min_samples_split=0.9, min_samples_leaf=0.1, max_features=347, max_depth=12 \n",
      "[CV]  n_estimators=150, min_samples_split=0.9, min_samples_leaf=0.1, max_features=347, max_depth=12, score=-1.278607032829709, total=   0.1s\n",
      "[CV] n_estimators=100, min_samples_split=0.4, min_samples_leaf=0.2, max_features=927, max_depth=6 \n",
      "[CV]  n_estimators=100, min_samples_split=0.4, min_samples_leaf=0.2, max_features=927, max_depth=6, score=-0.9952233387724713, total=   2.2s\n",
      "[CV] n_estimators=100, min_samples_split=0.4, min_samples_leaf=0.2, max_features=927, max_depth=6 \n",
      "[CV]  n_estimators=100, min_samples_split=0.4, min_samples_leaf=0.2, max_features=927, max_depth=6, score=-1.0100312265639733, total=   2.3s\n",
      "[CV] n_estimators=100, min_samples_split=0.4, min_samples_leaf=0.2, max_features=927, max_depth=6 \n",
      "[CV]  n_estimators=100, min_samples_split=0.4, min_samples_leaf=0.2, max_features=927, max_depth=6, score=-1.0434132830082785, total=   2.3s\n",
      "[CV] n_estimators=100, min_samples_split=0.8, min_samples_leaf=0.2, max_features=331, max_depth=6 \n",
      "[CV]  n_estimators=100, min_samples_split=0.8, min_samples_leaf=0.2, max_features=331, max_depth=6, score=-1.2202085980571042, total=   0.1s\n",
      "[CV] n_estimators=100, min_samples_split=0.8, min_samples_leaf=0.2, max_features=331, max_depth=6 \n",
      "[CV]  n_estimators=100, min_samples_split=0.8, min_samples_leaf=0.2, max_features=331, max_depth=6, score=-1.2479118580304775, total=   0.0s\n",
      "[CV] n_estimators=100, min_samples_split=0.8, min_samples_leaf=0.2, max_features=331, max_depth=6 \n",
      "[CV]  n_estimators=100, min_samples_split=0.8, min_samples_leaf=0.2, max_features=331, max_depth=6, score=-1.2786663483842267, total=   0.1s\n",
      "[CV] n_estimators=150, min_samples_split=0.1, min_samples_leaf=0.2, max_features=1036, max_depth=3 \n",
      "[CV]  n_estimators=150, min_samples_split=0.1, min_samples_leaf=0.2, max_features=1036, max_depth=3, score=-0.9895307194920548, total=   3.9s\n",
      "[CV] n_estimators=150, min_samples_split=0.1, min_samples_leaf=0.2, max_features=1036, max_depth=3 \n",
      "[CV]  n_estimators=150, min_samples_split=0.1, min_samples_leaf=0.2, max_features=1036, max_depth=3, score=-1.0059633585351027, total=   3.9s\n",
      "[CV] n_estimators=150, min_samples_split=0.1, min_samples_leaf=0.2, max_features=1036, max_depth=3 \n",
      "[CV]  n_estimators=150, min_samples_split=0.1, min_samples_leaf=0.2, max_features=1036, max_depth=3, score=-1.0392273828957344, total=   3.7s\n",
      "[CV] n_estimators=50, min_samples_split=0.9, min_samples_leaf=0.5, max_features=1803, max_depth=6 \n",
      "[CV]  n_estimators=50, min_samples_split=0.9, min_samples_leaf=0.5, max_features=1803, max_depth=6, score=-1.2193512252310161, total=   0.0s\n",
      "[CV] n_estimators=50, min_samples_split=0.9, min_samples_leaf=0.5, max_features=1803, max_depth=6 \n",
      "[CV]  n_estimators=50, min_samples_split=0.9, min_samples_leaf=0.5, max_features=1803, max_depth=6, score=-1.2481648274192427, total=   0.0s\n",
      "[CV] n_estimators=50, min_samples_split=0.9, min_samples_leaf=0.5, max_features=1803, max_depth=6 \n",
      "[CV]  n_estimators=50, min_samples_split=0.9, min_samples_leaf=0.5, max_features=1803, max_depth=6, score=-1.278671051933312, total=   0.0s\n",
      "[CV] n_estimators=100, min_samples_split=1.0, min_samples_leaf=0.4, max_features=1123, max_depth=3 \n",
      "[CV]  n_estimators=100, min_samples_split=1.0, min_samples_leaf=0.4, max_features=1123, max_depth=3, score=-1.2202085980571042, total=   0.1s\n",
      "[CV] n_estimators=100, min_samples_split=1.0, min_samples_leaf=0.4, max_features=1123, max_depth=3 \n",
      "[CV]  n_estimators=100, min_samples_split=1.0, min_samples_leaf=0.4, max_features=1123, max_depth=3, score=-1.2479118580304775, total=   0.1s\n",
      "[CV] n_estimators=100, min_samples_split=1.0, min_samples_leaf=0.4, max_features=1123, max_depth=3 \n",
      "[CV]  n_estimators=100, min_samples_split=1.0, min_samples_leaf=0.4, max_features=1123, max_depth=3, score=-1.2786663483842267, total=   0.0s\n"
     ]
    },
    {
     "name": "stderr",
     "output_type": "stream",
     "text": [
      "[Parallel(n_jobs=1)]: Done  30 out of  30 | elapsed:   32.0s finished\n"
     ]
    },
    {
     "data": {
      "text/plain": [
       "RandomizedSearchCV(cv=3, error_score='raise',\n",
       "          estimator=RandomForestRegressor(bootstrap=True, criterion='mse', max_depth=None,\n",
       "           max_features='auto', max_leaf_nodes=None,\n",
       "           min_impurity_decrease=0.0, min_impurity_split=None,\n",
       "           min_samples_leaf=1, min_samples_split=2,\n",
       "           min_weight_fraction_leaf=0.0, n_estimators=10, n_jobs=1,\n",
       "           oob_score=False, random_state=0, verbose=0, warm_start=False),\n",
       "          fit_params=None, iid=True, n_iter=10, n_jobs=1,\n",
       "          param_distributions={'n_estimators': [50, 100, 150, 200, 250], 'max_depth': [3, 6, 9, 12, 15], 'min_samples_split': array([0.1, 0.2, 0.3, 0.4, 0.5, 0.6, 0.7, 0.8, 0.9, 1. ]), 'min_samples_leaf': array([0.1, 0.2, 0.3, 0.4, 0.5]), 'max_features': [1, 2, 3, 4, 5, 6, 7, 8, 9, 10, 11, 12, 13, 14, 15, 16,...28, 2029, 2030, 2031, 2032, 2033, 2034, 2035, 2036, 2037, 2038, 2039, 2040, 2041, 2042, 2043, 2044]},\n",
       "          pre_dispatch='2*n_jobs', random_state=None, refit=True,\n",
       "          return_train_score='warn', scoring='neg_mean_squared_error',\n",
       "          verbose=10)"
      ]
     },
     "execution_count": 100,
     "metadata": {},
     "output_type": "execute_result"
    }
   ],
   "source": [
    "from sklearn.ensemble import RandomForestRegressor\n",
    "n_estimators = [50,100,150,200,250]\n",
    "max_depth = [3,6,9,12,15]\n",
    "min_samples_splits = np.linspace(0.1, 1.0, 10, endpoint=True)\n",
    "min_samples_leafs = np.linspace(0.1, 0.5, 5, endpoint=True)\n",
    "max_features = list(range(1,X_train.shape[1]))\n",
    "clf = RandomForestRegressor(random_state=0)\n",
    "parameters = {'n_estimators' : n_estimators , 'max_depth' : max_depth , 'min_samples_split' : min_samples_splits , 'min_samples_leaf' : min_samples_leafs , 'max_features' : max_features }\n",
    "Tree = RandomizedSearchCV(clf,param_distributions = parameters, scoring = 'neg_mean_squared_error' , cv = 3 , verbose = 10)\n",
    "Tree.fit(X_train,y_train)"
   ]
  },
  {
   "cell_type": "code",
   "execution_count": 102,
   "metadata": {},
   "outputs": [
    {
     "name": "stdout",
     "output_type": "stream",
     "text": [
      "{'n_estimators': 150, 'min_samples_split': 0.1, 'min_samples_leaf': 0.2, 'max_features': 1036, 'max_depth': 3}\n"
     ]
    }
   ],
   "source": [
    "print(Tree.best_params_)"
   ]
  },
  {
   "cell_type": "code",
   "execution_count": 104,
   "metadata": {},
   "outputs": [
    {
     "name": "stdout",
     "output_type": "stream",
     "text": [
      "0.7842692499412613\n"
     ]
    }
   ],
   "source": [
    "\n",
    "clf = RandomForestRegressor(n_estimators = 150, min_samples_split = 0.1, min_samples_leaf = 0.2, max_features = 1036, max_depth = 3)\n",
    "clf.fit(X_train,y_train)\n",
    "y_pred = clf.predict(X_test)\n",
    "mse = mean_absolute_error(y_test, y_pred)\n",
    "print(mse)"
   ]
  },
  {
   "cell_type": "markdown",
   "metadata": {},
   "source": [
    "### GBDT Model"
   ]
  },
  {
   "cell_type": "code",
   "execution_count": 109,
   "metadata": {},
   "outputs": [
    {
     "name": "stdout",
     "output_type": "stream",
     "text": [
      "Fitting 3 folds for each of 10 candidates, totalling 30 fits\n",
      "[CV] n_estimators=150, min_samples_split=0.6, min_samples_leaf=0.5, max_features=845, max_depth=15 \n",
      "[CV]  n_estimators=150, min_samples_split=0.6, min_samples_leaf=0.5, max_features=845, max_depth=15, score=-0.9829391329264562, total=   5.6s\n",
      "[CV] n_estimators=150, min_samples_split=0.6, min_samples_leaf=0.5, max_features=845, max_depth=15 \n"
     ]
    },
    {
     "name": "stderr",
     "output_type": "stream",
     "text": [
      "[Parallel(n_jobs=1)]: Done   1 out of   1 | elapsed:    5.6s remaining:    0.0s\n"
     ]
    },
    {
     "name": "stdout",
     "output_type": "stream",
     "text": [
      "[CV]  n_estimators=150, min_samples_split=0.6, min_samples_leaf=0.5, max_features=845, max_depth=15, score=-1.0895930072331694, total=   5.9s\n",
      "[CV] n_estimators=150, min_samples_split=0.6, min_samples_leaf=0.5, max_features=845, max_depth=15 \n"
     ]
    },
    {
     "name": "stderr",
     "output_type": "stream",
     "text": [
      "[Parallel(n_jobs=1)]: Done   2 out of   2 | elapsed:   11.7s remaining:    0.0s\n"
     ]
    },
    {
     "name": "stdout",
     "output_type": "stream",
     "text": [
      "[CV]  n_estimators=150, min_samples_split=0.6, min_samples_leaf=0.5, max_features=845, max_depth=15, score=-1.0078872526303222, total=   6.0s\n",
      "[CV] n_estimators=50, min_samples_split=0.5, min_samples_leaf=0.4, max_features=22, max_depth=9 \n"
     ]
    },
    {
     "name": "stderr",
     "output_type": "stream",
     "text": [
      "[Parallel(n_jobs=1)]: Done   3 out of   3 | elapsed:   17.8s remaining:    0.0s\n"
     ]
    },
    {
     "name": "stdout",
     "output_type": "stream",
     "text": [
      "[CV]  n_estimators=50, min_samples_split=0.5, min_samples_leaf=0.4, max_features=22, max_depth=9, score=-1.1835748821337178, total=   0.4s\n",
      "[CV] n_estimators=50, min_samples_split=0.5, min_samples_leaf=0.4, max_features=22, max_depth=9 \n"
     ]
    },
    {
     "name": "stderr",
     "output_type": "stream",
     "text": [
      "[Parallel(n_jobs=1)]: Done   4 out of   4 | elapsed:   18.3s remaining:    0.0s\n"
     ]
    },
    {
     "name": "stdout",
     "output_type": "stream",
     "text": [
      "[CV]  n_estimators=50, min_samples_split=0.5, min_samples_leaf=0.4, max_features=22, max_depth=9, score=-1.2369599944052716, total=   0.4s\n",
      "[CV] n_estimators=50, min_samples_split=0.5, min_samples_leaf=0.4, max_features=22, max_depth=9 \n"
     ]
    },
    {
     "name": "stderr",
     "output_type": "stream",
     "text": [
      "[Parallel(n_jobs=1)]: Done   5 out of   5 | elapsed:   18.8s remaining:    0.0s\n"
     ]
    },
    {
     "name": "stdout",
     "output_type": "stream",
     "text": [
      "[CV]  n_estimators=50, min_samples_split=0.5, min_samples_leaf=0.4, max_features=22, max_depth=9, score=-1.2715755535105084, total=   0.4s\n",
      "[CV] n_estimators=250, min_samples_split=0.1, min_samples_leaf=0.5, max_features=134, max_depth=3 \n"
     ]
    },
    {
     "name": "stderr",
     "output_type": "stream",
     "text": [
      "[Parallel(n_jobs=1)]: Done   6 out of   6 | elapsed:   19.3s remaining:    0.0s\n"
     ]
    },
    {
     "name": "stdout",
     "output_type": "stream",
     "text": [
      "[CV]  n_estimators=250, min_samples_split=0.1, min_samples_leaf=0.5, max_features=134, max_depth=3, score=-0.987030700403557, total=   2.0s\n",
      "[CV] n_estimators=250, min_samples_split=0.1, min_samples_leaf=0.5, max_features=134, max_depth=3 \n"
     ]
    },
    {
     "name": "stderr",
     "output_type": "stream",
     "text": [
      "[Parallel(n_jobs=1)]: Done   7 out of   7 | elapsed:   21.5s remaining:    0.0s\n"
     ]
    },
    {
     "name": "stdout",
     "output_type": "stream",
     "text": [
      "[CV]  n_estimators=250, min_samples_split=0.1, min_samples_leaf=0.5, max_features=134, max_depth=3, score=-1.1050800199149955, total=   1.8s\n",
      "[CV] n_estimators=250, min_samples_split=0.1, min_samples_leaf=0.5, max_features=134, max_depth=3 \n"
     ]
    },
    {
     "name": "stderr",
     "output_type": "stream",
     "text": [
      "[Parallel(n_jobs=1)]: Done   8 out of   8 | elapsed:   23.5s remaining:    0.0s\n"
     ]
    },
    {
     "name": "stdout",
     "output_type": "stream",
     "text": [
      "[CV]  n_estimators=250, min_samples_split=0.1, min_samples_leaf=0.5, max_features=134, max_depth=3, score=-1.0456791987861975, total=   1.8s\n",
      "[CV] n_estimators=50, min_samples_split=0.5, min_samples_leaf=0.1, max_features=1020, max_depth=12 \n"
     ]
    },
    {
     "name": "stderr",
     "output_type": "stream",
     "text": [
      "[Parallel(n_jobs=1)]: Done   9 out of   9 | elapsed:   25.5s remaining:    0.0s\n"
     ]
    },
    {
     "name": "stdout",
     "output_type": "stream",
     "text": [
      "[CV]  n_estimators=50, min_samples_split=0.5, min_samples_leaf=0.1, max_features=1020, max_depth=12, score=-0.6551675225775473, total=   5.1s\n",
      "[CV] n_estimators=50, min_samples_split=0.5, min_samples_leaf=0.1, max_features=1020, max_depth=12 \n",
      "[CV]  n_estimators=50, min_samples_split=0.5, min_samples_leaf=0.1, max_features=1020, max_depth=12, score=-0.6687573990260225, total=   5.0s\n",
      "[CV] n_estimators=50, min_samples_split=0.5, min_samples_leaf=0.1, max_features=1020, max_depth=12 \n",
      "[CV]  n_estimators=50, min_samples_split=0.5, min_samples_leaf=0.1, max_features=1020, max_depth=12, score=-0.7151117840972605, total=   5.0s\n",
      "[CV] n_estimators=150, min_samples_split=0.5, min_samples_leaf=0.30000000000000004, max_features=1764, max_depth=12 \n",
      "[CV]  n_estimators=150, min_samples_split=0.5, min_samples_leaf=0.30000000000000004, max_features=1764, max_depth=12, score=-0.7312836523879795, total=  17.1s\n",
      "[CV] n_estimators=150, min_samples_split=0.5, min_samples_leaf=0.30000000000000004, max_features=1764, max_depth=12 \n",
      "[CV]  n_estimators=150, min_samples_split=0.5, min_samples_leaf=0.30000000000000004, max_features=1764, max_depth=12, score=-0.7265557204013868, total=  16.6s\n",
      "[CV] n_estimators=150, min_samples_split=0.5, min_samples_leaf=0.30000000000000004, max_features=1764, max_depth=12 \n",
      "[CV]  n_estimators=150, min_samples_split=0.5, min_samples_leaf=0.30000000000000004, max_features=1764, max_depth=12, score=-0.7537750976147211, total=  17.6s\n",
      "[CV] n_estimators=100, min_samples_split=0.5, min_samples_leaf=0.30000000000000004, max_features=1494, max_depth=15 \n",
      "[CV]  n_estimators=100, min_samples_split=0.5, min_samples_leaf=0.30000000000000004, max_features=1494, max_depth=15, score=-0.7469618052845202, total=  10.3s\n",
      "[CV] n_estimators=100, min_samples_split=0.5, min_samples_leaf=0.30000000000000004, max_features=1494, max_depth=15 \n",
      "[CV]  n_estimators=100, min_samples_split=0.5, min_samples_leaf=0.30000000000000004, max_features=1494, max_depth=15, score=-0.7439972430452866, total=   9.6s\n",
      "[CV] n_estimators=100, min_samples_split=0.5, min_samples_leaf=0.30000000000000004, max_features=1494, max_depth=15 \n",
      "[CV]  n_estimators=100, min_samples_split=0.5, min_samples_leaf=0.30000000000000004, max_features=1494, max_depth=15, score=-0.7713837332381237, total=   9.3s\n",
      "[CV] n_estimators=100, min_samples_split=0.6, min_samples_leaf=0.4, max_features=1266, max_depth=3 \n",
      "[CV]  n_estimators=100, min_samples_split=0.6, min_samples_leaf=0.4, max_features=1266, max_depth=3, score=-0.8387716214687646, total=   5.3s\n",
      "[CV] n_estimators=100, min_samples_split=0.6, min_samples_leaf=0.4, max_features=1266, max_depth=3 \n",
      "[CV]  n_estimators=100, min_samples_split=0.6, min_samples_leaf=0.4, max_features=1266, max_depth=3, score=-0.8346775148533323, total=   5.4s\n",
      "[CV] n_estimators=100, min_samples_split=0.6, min_samples_leaf=0.4, max_features=1266, max_depth=3 \n",
      "[CV]  n_estimators=100, min_samples_split=0.6, min_samples_leaf=0.4, max_features=1266, max_depth=3, score=-0.8579655174870773, total=   5.4s\n",
      "[CV] n_estimators=100, min_samples_split=0.7000000000000001, min_samples_leaf=0.5, max_features=714, max_depth=12 \n",
      "[CV]  n_estimators=100, min_samples_split=0.7000000000000001, min_samples_leaf=0.5, max_features=714, max_depth=12, score=-0.9856368346500344, total=   3.5s\n",
      "[CV] n_estimators=100, min_samples_split=0.7000000000000001, min_samples_leaf=0.5, max_features=714, max_depth=12 \n",
      "[CV]  n_estimators=100, min_samples_split=0.7000000000000001, min_samples_leaf=0.5, max_features=714, max_depth=12, score=-1.0961432231285781, total=   3.6s\n",
      "[CV] n_estimators=100, min_samples_split=0.7000000000000001, min_samples_leaf=0.5, max_features=714, max_depth=12 \n",
      "[CV]  n_estimators=100, min_samples_split=0.7000000000000001, min_samples_leaf=0.5, max_features=714, max_depth=12, score=-1.0147528017111163, total=   3.2s\n",
      "[CV] n_estimators=250, min_samples_split=0.1, min_samples_leaf=0.5, max_features=1178, max_depth=12 \n",
      "[CV]  n_estimators=250, min_samples_split=0.1, min_samples_leaf=0.5, max_features=1178, max_depth=12, score=-0.9816847727769239, total=  12.4s\n",
      "[CV] n_estimators=250, min_samples_split=0.1, min_samples_leaf=0.5, max_features=1178, max_depth=12 \n",
      "[CV]  n_estimators=250, min_samples_split=0.1, min_samples_leaf=0.5, max_features=1178, max_depth=12, score=-1.0907809357806384, total=  13.1s\n",
      "[CV] n_estimators=250, min_samples_split=0.1, min_samples_leaf=0.5, max_features=1178, max_depth=12 \n",
      "[CV]  n_estimators=250, min_samples_split=0.1, min_samples_leaf=0.5, max_features=1178, max_depth=12, score=-1.0060728332717268, total=  12.0s\n",
      "[CV] n_estimators=250, min_samples_split=0.9, min_samples_leaf=0.30000000000000004, max_features=347, max_depth=9 \n",
      "[CV]  n_estimators=250, min_samples_split=0.9, min_samples_leaf=0.30000000000000004, max_features=347, max_depth=9, score=-0.7483409441318198, total=   4.1s\n",
      "[CV] n_estimators=250, min_samples_split=0.9, min_samples_leaf=0.30000000000000004, max_features=347, max_depth=9 \n",
      "[CV]  n_estimators=250, min_samples_split=0.9, min_samples_leaf=0.30000000000000004, max_features=347, max_depth=9, score=-0.736197271581775, total=   4.3s\n",
      "[CV] n_estimators=250, min_samples_split=0.9, min_samples_leaf=0.30000000000000004, max_features=347, max_depth=9 \n",
      "[CV]  n_estimators=250, min_samples_split=0.9, min_samples_leaf=0.30000000000000004, max_features=347, max_depth=9, score=-0.776984758095611, total=   3.9s\n"
     ]
    },
    {
     "name": "stderr",
     "output_type": "stream",
     "text": [
      "[Parallel(n_jobs=1)]: Done  30 out of  30 | elapsed:  3.3min finished\n"
     ]
    },
    {
     "data": {
      "text/plain": [
       "RandomizedSearchCV(cv=3, error_score='raise',\n",
       "          estimator=GradientBoostingRegressor(alpha=0.9, criterion='friedman_mse', init=None,\n",
       "             learning_rate=0.1, loss='ls', max_depth=3, max_features=None,\n",
       "             max_leaf_nodes=None, min_impurity_decrease=0.0,\n",
       "             min_impurity_split=None, min_samples_leaf=1,\n",
       "             min_samples_split=2, min_weight_fraction_leaf=0.0,\n",
       "             n_estimators=100, presort='auto', random_state=0,\n",
       "             subsample=1.0, verbose=0, warm_start=False),\n",
       "          fit_params=None, iid=True, n_iter=10, n_jobs=1,\n",
       "          param_distributions={'n_estimators': [50, 100, 150, 200, 250], 'max_depth': [3, 6, 9, 12, 15], 'min_samples_split': array([0.1, 0.2, 0.3, 0.4, 0.5, 0.6, 0.7, 0.8, 0.9, 1. ]), 'min_samples_leaf': array([0.1, 0.2, 0.3, 0.4, 0.5]), 'max_features': [1, 2, 3, 4, 5, 6, 7, 8, 9, 10, 11, 12, 13, 14, 15, 16,...28, 2029, 2030, 2031, 2032, 2033, 2034, 2035, 2036, 2037, 2038, 2039, 2040, 2041, 2042, 2043, 2044]},\n",
       "          pre_dispatch='2*n_jobs', random_state=None, refit=True,\n",
       "          return_train_score='warn', scoring='neg_mean_squared_error',\n",
       "          verbose=10)"
      ]
     },
     "execution_count": 109,
     "metadata": {},
     "output_type": "execute_result"
    }
   ],
   "source": [
    "from sklearn.ensemble.gradient_boosting import GradientBoostingRegressor\n",
    "n_estimators = [50,100,150,200,250]\n",
    "max_depth = [3,6,9,12,15]\n",
    "min_samples_splits = np.linspace(0.1, 1.0, 10, endpoint=True)\n",
    "min_samples_leafs = np.linspace(0.1, 0.5, 5, endpoint=True)\n",
    "max_features = list(range(1,X_train.shape[1]))\n",
    "clf = GradientBoostingRegressor(random_state=0)\n",
    "parameters = {'n_estimators' : n_estimators , 'max_depth' : max_depth , 'min_samples_split' : min_samples_splits , 'min_samples_leaf' : min_samples_leafs , 'max_features' : max_features }\n",
    "Tree = RandomizedSearchCV(clf,param_distributions = parameters, scoring = 'neg_mean_squared_error' , cv = 3 , verbose = 10)\n",
    "Tree.fit(X_train,y_train)"
   ]
  },
  {
   "cell_type": "code",
   "execution_count": 110,
   "metadata": {},
   "outputs": [
    {
     "name": "stdout",
     "output_type": "stream",
     "text": [
      "{'n_estimators': 50, 'min_samples_split': 0.5, 'min_samples_leaf': 0.1, 'max_features': 1020, 'max_depth': 12}\n"
     ]
    }
   ],
   "source": [
    "print(Tree.best_params_)"
   ]
  },
  {
   "cell_type": "code",
   "execution_count": 111,
   "metadata": {},
   "outputs": [
    {
     "name": "stdout",
     "output_type": "stream",
     "text": [
      "0.6136245652480664\n"
     ]
    }
   ],
   "source": [
    "clf = GradientBoostingRegressor(n_estimators = 50, min_samples_split = 0.5, min_samples_leaf = 0.1, max_features = 1020, max_depth = 12)\n",
    "clf.fit(X_train,y_train)\n",
    "y_pred = clf.predict(X_test)\n",
    "mse = mean_absolute_error(y_test, y_pred)\n",
    "print(mse)"
   ]
  },
  {
   "cell_type": "code",
   "execution_count": 52,
   "metadata": {},
   "outputs": [
    {
     "name": "stdout",
     "output_type": "stream",
     "text": [
      "Fitting 3 folds for each of 10 candidates, totalling 30 fits\n"
     ]
    },
    {
     "name": "stderr",
     "output_type": "stream",
     "text": [
      "[Parallel(n_jobs=-1)]: Done   5 tasks      | elapsed:  6.9min\n",
      "[Parallel(n_jobs=-1)]: Done  10 tasks      | elapsed: 10.2min\n",
      "[Parallel(n_jobs=-1)]: Done  17 tasks      | elapsed: 17.4min\n",
      "[Parallel(n_jobs=-1)]: Done  27 out of  30 | elapsed: 21.9min remaining:  2.4min\n",
      "[Parallel(n_jobs=-1)]: Done  30 out of  30 | elapsed: 22.2min finished\n"
     ]
    },
    {
     "data": {
      "text/plain": [
       "RandomizedSearchCV(cv=3, error_score='raise',\n",
       "          estimator=XGBRegressor(base_score=0.5, booster='gbtree', colsample_bylevel=1,\n",
       "       colsample_bytree=1, gamma=0, learning_rate=0.1, max_delta_step=0,\n",
       "       max_depth=3, min_child_weight=1, missing=None, n_estimators=100,\n",
       "       n_jobs=1, nthread=None, objective='reg:linear', random_state=0,\n",
       "       reg_alpha=0, reg_lambda=1, scale_pos_weight=1, seed=None,\n",
       "       silent=True, subsample=1),\n",
       "          fit_params=None, iid=True, n_iter=10, n_jobs=-1,\n",
       "          param_distributions={'learning_rate': [0.001, 0.01, 0.05, 0.1], 'alpha': [0.0001, 0.001, 0.01, 0.1, 1, 100, 1000], 'objective': ['reg:linear'], 'n_estimators': [50, 100, 150, 200, 250], 'max_depth': [3, 6, 9, 12, 15]},\n",
       "          pre_dispatch='2*n_jobs', random_state=None, refit=True,\n",
       "          return_train_score='warn', scoring='neg_mean_squared_error',\n",
       "          verbose=10)"
      ]
     },
     "execution_count": 52,
     "metadata": {},
     "output_type": "execute_result"
    }
   ],
   "source": [
    "from sklearn.model_selection  import RandomizedSearchCV\n",
    "from sklearn.model_selection import GridSearchCV \n",
    "from xgboost import XGBRegressor\n",
    "n_estimators = [50,100,150,200,250]\n",
    "max_depth = [3,6,9,12,15]\n",
    "learning_rate = [0.001,0.01,0.05,0.1]\n",
    "objective = ['reg:linear']\n",
    "alpha = [0.0001,0.001,0.01,0.1,1,100,1000]\n",
    "clf = XGBRegressor(random_state=0)\n",
    "parameters = {'learning_rate' : learning_rate, 'alpha': alpha , 'objective' : objective ,  'n_estimators' : n_estimators , 'max_depth' : max_depth }\n",
    "random_search = RandomizedSearchCV(clf,param_distributions = parameters, scoring = 'neg_mean_squared_error' , cv = 3 , verbose = 10 , n_jobs = -1)\n",
    "random_search.fit(X_train,y_train)"
   ]
  },
  {
   "cell_type": "code",
   "execution_count": 54,
   "metadata": {},
   "outputs": [
    {
     "name": "stdout",
     "output_type": "stream",
     "text": [
      "{'objective': 'reg:linear', 'n_estimators': 200, 'max_depth': 6, 'learning_rate': 0.05, 'alpha': 0.1}\n"
     ]
    }
   ],
   "source": [
    "print(random_search.best_params_)"
   ]
  },
  {
   "cell_type": "code",
   "execution_count": 55,
   "metadata": {},
   "outputs": [
    {
     "name": "stdout",
     "output_type": "stream",
     "text": [
      "0.5067816177574364\n"
     ]
    }
   ],
   "source": [
    "# applying the regressor with the best params \n",
    "clf = XGBRegressor(objective = 'reg:linear' , n_estimators = 200 ,  max_depth = 6 , learning_rate = 0.05 , alpha = 0.1)\n",
    "clf.fit(X_train , y_train)\n",
    "y_pred = clf.predict(X_test)\n",
    "mse = mean_absolute_error(y_test, y_pred)\n",
    "print(mse)"
   ]
  },
  {
   "cell_type": "markdown",
   "metadata": {},
   "source": [
    "### Conclusion\n",
    "The best model so far is XGboost tree based model, which has reduced the mean squared error from 0.7 to 0.5."
   ]
  }
 ],
 "metadata": {
  "kernelspec": {
   "display_name": "Python 3",
   "language": "python",
   "name": "python3"
  },
  "language_info": {
   "codemirror_mode": {
    "name": "ipython",
    "version": 3
   },
   "file_extension": ".py",
   "mimetype": "text/x-python",
   "name": "python",
   "nbconvert_exporter": "python",
   "pygments_lexer": "ipython3",
   "version": "3.6.5"
  }
 },
 "nbformat": 4,
 "nbformat_minor": 2
}
